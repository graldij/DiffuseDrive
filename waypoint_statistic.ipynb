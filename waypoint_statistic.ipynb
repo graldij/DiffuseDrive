{
 "cells": [
  {
   "cell_type": "code",
   "execution_count": null,
   "metadata": {},
   "outputs": [],
   "source": [
    "import sys\n",
    "import os\n",
    "# caution: path[0] is reserved for script path (or '' in REPL)\n",
    "os.environ['MUJOCO_PY_MUJOCO_PATH']='/scratch_net/biwidl211/rl_course_10/.mujoco/mujoco210'\n",
    "\n",
    "#add DiffuseDrive to path. Dont know why, but else diffuser folder is not seen.\n",
    "# os.environ['PYTHONPATH'] = str(os.environ['PYTHONPATH']) + '~/DiffuseDrive'\n",
    "\n",
    "import diffuser.utils as utils\n",
    "import torch\n",
    "import wandb\n",
    "# logging.basicConfig(filename='logs/training.log', encoding='utf-8', level=logging.INFO)\n",
    "from logger_module import logger\n",
    "from tqdm import tqdm"
   ]
  },
  {
   "cell_type": "code",
   "execution_count": null,
   "metadata": {},
   "outputs": [],
   "source": [
    "dataset_config = utils.Config(\n",
    "    'datasets.CollectedSequenceDataset',\n",
    "    savepath='dataset_config.pkl',\n",
    "    env='carla-expert',\n",
    "    horizon=12,\n",
    "    normalizer='CDFNormalizer',\n",
    "    preprocess_fns=[],\n",
    "    use_padding=True,\n",
    "    max_path_length=10,\n",
    "    include_returns=True,\n",
    "    returns_scale=400,\n",
    "    discount=0.99,\n",
    "    termination_penalty=-100,\n",
    "    past_image_cond = False\n",
    ")\n",
    "\n",
    "\n",
    "dataset = dataset_config()"
   ]
  },
  {
   "cell_type": "code",
   "execution_count": null,
   "metadata": {},
   "outputs": [],
   "source": [
    "def cycle(dl):\n",
    "    while True:\n",
    "        for data in dl:\n",
    "            yield data"
   ]
  },
  {
   "cell_type": "code",
   "execution_count": null,
   "metadata": {},
   "outputs": [],
   "source": [
    "dataloader = cycle(torch.utils.data.DataLoader(\n",
    "    dataset, batch_size=1, num_workers=0, pin_memory=True, shuffle = False\n",
    "))"
   ]
  },
  {
   "cell_type": "code",
   "execution_count": null,
   "metadata": {},
   "outputs": [],
   "source": [
    "tmp = next(dataloader)\n"
   ]
  },
  {
   "cell_type": "code",
   "execution_count": null,
   "metadata": {},
   "outputs": [],
   "source": [
    "print(tmp[0])\n",
    "print(tmp[0][0,:,:-1]) # x and y coordinates"
   ]
  },
  {
   "cell_type": "code",
   "execution_count": null,
   "metadata": {},
   "outputs": [],
   "source": [
    "all_zeros_count = 0\n",
    "for i, data in enumerate(tqdm(dataloader)):\n",
    "    # print(i)\n",
    "    # print(data[0].max())\n",
    "    # print(data[0])\n",
    "    if data[0][0,:,:-1].max() <= 1e-6:\n",
    "        all_zeros_count += 1\n",
    "    \n",
    "    if i > 50000:\n",
    "        break"
   ]
  },
  {
   "cell_type": "code",
   "execution_count": null,
   "metadata": {},
   "outputs": [],
   "source": [
    "print(all_zeros_count)\n",
    "print(i)"
   ]
  },
  {
   "cell_type": "code",
   "execution_count": null,
   "metadata": {},
   "outputs": [],
   "source": [
    "print(all_zeros_count/(i+1))"
   ]
  }
 ],
 "metadata": {
  "kernelspec": {
   "display_name": "playground_diffmodel",
   "language": "python",
   "name": "python3"
  },
  "language_info": {
   "codemirror_mode": {
    "name": "ipython",
    "version": 3
   },
   "file_extension": ".py",
   "mimetype": "text/x-python",
   "name": "python",
   "nbconvert_exporter": "python",
   "pygments_lexer": "ipython3",
   "version": "3.9.16"
  },
  "orig_nbformat": 4
 },
 "nbformat": 4,
 "nbformat_minor": 2
}
