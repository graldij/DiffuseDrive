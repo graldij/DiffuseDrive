{
 "cells": [
  {
   "cell_type": "code",
   "execution_count": 1,
   "metadata": {},
   "outputs": [
    {
     "name": "stderr",
     "output_type": "stream",
     "text": [
      "2023-07-27 20:16:13,291 - INFO - MUJOCO_GL is not set, so an OpenGL backend will be chosen automatically.\n",
      "2023-07-27 20:16:13,301 - INFO - Successfully imported OpenGL backend: glfw\n",
      "2023-07-27 20:16:13,357 - INFO - MuJoCo library version is: 2.3.5\n",
      "pybullet build time: May 20 2022 19:45:31\n",
      "/scratch_net/biwidl211/rl_course_10/.pyenv/versions/3.9.16/envs/playground_diffmodel/lib/python3.9/site-packages/tqdm/auto.py:21: TqdmWarning: IProgress not found. Please update jupyter and ipywidgets. See https://ipywidgets.readthedocs.io/en/stable/user_install.html\n",
      "  from .autonotebook import tqdm as notebook_tqdm\n"
     ]
    }
   ],
   "source": [
    "import sys\n",
    "import os\n",
    "# caution: path[0] is reserved for script path (or '' in REPL)\n",
    "os.environ['MUJOCO_PY_MUJOCO_PATH']='/scratch_net/biwidl211/rl_course_10/.mujoco/mujoco210'\n",
    "\n",
    "#add DiffuseDrive to path. Dont know why, but else diffuser folder is not seen.\n",
    "# os.environ['PYTHONPATH'] = str(os.environ['PYTHONPATH']) + '~/DiffuseDrive'\n",
    "\n",
    "import diffuser.utils as utils\n",
    "import torch\n",
    "import wandb\n",
    "# logging.basicConfig(filename='logs/training.log', encoding='utf-8', level=logging.INFO)\n",
    "from logger_module import logger\n",
    "from tqdm import tqdm"
   ]
  },
  {
   "cell_type": "code",
   "execution_count": 2,
   "metadata": {},
   "outputs": [
    {
     "name": "stdout",
     "output_type": "stream",
     "text": [
      "[ utils/config ] Imported diffuser.datasets:CollectedSequenceDataset\n",
      "\n",
      "[utils/config ] Config: <class 'diffuser.datasets.sequence.CollectedSequenceDataset'>\n",
      "    discount: 0.99\n",
      "    env: carla-expert\n",
      "    horizon: 12\n",
      "    include_returns: True\n",
      "    max_path_length: 10\n",
      "    normalizer: CDFNormalizer\n",
      "    past_image_cond: True\n",
      "    preprocess_fns: []\n",
      "    returns_scale: 400\n",
      "    termination_penalty: -100\n",
      "    use_padding: True\n",
      "\n",
      "[ utils/config ] Saved config to: dataset_config.pkl\n",
      "\n"
     ]
    }
   ],
   "source": [
    "dataset_config = utils.Config(\n",
    "    'datasets.CollectedSequenceDataset',\n",
    "    savepath='dataset_config.pkl',\n",
    "    env='carla-expert',\n",
    "    horizon=12,\n",
    "    normalizer='CDFNormalizer',\n",
    "    preprocess_fns=[],\n",
    "    use_padding=True,\n",
    "    max_path_length=10,\n",
    "    include_returns=True,\n",
    "    returns_scale=400,\n",
    "    discount=0.99,\n",
    "    termination_penalty=-100,\n",
    "    past_image_cond = True\n",
    ")\n",
    "\n",
    "\n",
    "dataset = dataset_config()"
   ]
  },
  {
   "cell_type": "code",
   "execution_count": 3,
   "metadata": {},
   "outputs": [],
   "source": [
    "def cycle(dl):\n",
    "    while True:\n",
    "        for data in dl:\n",
    "            yield data"
   ]
  },
  {
   "cell_type": "code",
   "execution_count": 4,
   "metadata": {},
   "outputs": [],
   "source": [
    "dataloader = cycle(torch.utils.data.DataLoader(\n",
    "    dataset, batch_size=1, num_workers=0, pin_memory=True, shuffle = False\n",
    "))"
   ]
  },
  {
   "cell_type": "code",
   "execution_count": 5,
   "metadata": {},
   "outputs": [
    {
     "name": "stderr",
     "output_type": "stream",
     "text": [
      "/scratch_net/biwidl211/rl_course_10/.pyenv/versions/3.9.16/envs/playground_diffmodel/lib/python3.9/site-packages/torch/cuda/__init__.py:107: UserWarning: CUDA initialization: The NVIDIA driver on your system is too old (found version 10010). Please update your GPU driver by downloading and installing a new version from the URL: http://www.nvidia.com/Download/index.aspx Alternatively, go to: https://pytorch.org to install a PyTorch version that has been compiled with your version of the CUDA driver. (Triggered internally at ../c10/cuda/CUDAFunctions.cpp:109.)\n",
      "  return torch._C._cuda_getDeviceCount() > 0\n"
     ]
    }
   ],
   "source": [
    "tmp = next(dataloader)\n"
   ]
  },
  {
   "cell_type": "code",
   "execution_count": 6,
   "metadata": {},
   "outputs": [
    {
     "name": "stdout",
     "output_type": "stream",
     "text": [
      "Batch(trajectories=tensor([[[ 0.1866, -0.7555,  0.0481],\n",
      "         [ 0.2406, -0.7969,  0.1485],\n",
      "         [ 0.3397, -0.8768,  0.2052],\n",
      "         [-1.0000, -1.0000, -1.0000],\n",
      "         [ 0.2497, -0.7209, -0.0838],\n",
      "         [ 0.2553, -0.4589, -0.1082],\n",
      "         [ 0.0505, -0.2062, -0.0302],\n",
      "         [-0.0202,  0.0422, -0.0122],\n",
      "         [-0.0239,  0.2893, -0.0307],\n",
      "         [ 0.0020,  0.5272, -0.0257],\n",
      "         [ 0.0180,  0.7599, -0.0423],\n",
      "         [ 0.0156,  0.9546, -0.0412]]]), conditions=tensor([[[ 0.1866, -0.7555,  0.0481],\n",
      "         [ 0.2406, -0.7969,  0.1485],\n",
      "         [ 0.3397, -0.8768,  0.2052],\n",
      "         [-1.0000, -1.0000, -1.0000]]]), images=tensor([[[[[ 70.,  70.,  69.,  ..., 117., 117., 117.],\n",
      "           [ 72.,  72.,  71.,  ..., 117., 117., 117.],\n",
      "           [ 74.,  73.,  72.,  ..., 117., 117., 117.],\n",
      "           ...,\n",
      "           [  1.,   2.,   2.,  ...,  87.,  49.,  47.],\n",
      "           [  2.,   2.,   3.,  ..., 136.,  84.,  67.],\n",
      "           [  2.,   2.,   3.,  ..., 192., 131.,  69.]],\n",
      "\n",
      "          [[102., 102., 101.,  ..., 120., 120., 120.],\n",
      "           [101., 101., 100.,  ..., 120., 120., 120.],\n",
      "           [101., 100.,  99.,  ..., 120., 120., 120.],\n",
      "           ...,\n",
      "           [  1.,   2.,   2.,  ...,  80.,  37.,  31.],\n",
      "           [  2.,   2.,   3.,  ..., 143.,  87.,  70.],\n",
      "           [  2.,   2.,   3.,  ..., 205., 142.,  80.]],\n",
      "\n",
      "          [[117., 117., 116.,  ..., 127., 127., 127.],\n",
      "           [117., 117., 116.,  ..., 127., 127., 127.],\n",
      "           [118., 117., 116.,  ..., 127., 127., 127.],\n",
      "           ...,\n",
      "           [  1.,   2.,   2.,  ...,  64.,  23.,  18.],\n",
      "           [  2.,   2.,   3.,  ..., 125.,  70.,  53.],\n",
      "           [  2.,   2.,   3.,  ..., 185., 125.,  63.]]],\n",
      "\n",
      "\n",
      "         [[[ 75.,  74.,  73.,  ..., 117., 117., 117.],\n",
      "           [ 77.,  74.,  75.,  ..., 117., 117., 117.],\n",
      "           [ 78.,  76.,  76.,  ..., 117., 117., 117.],\n",
      "           ...,\n",
      "           [  0.,   0.,   1.,  ...,  83.,  48.,  49.],\n",
      "           [  0.,   0.,   1.,  ..., 131.,  80.,  66.],\n",
      "           [  0.,   0.,   1.,  ..., 185., 123.,  64.]],\n",
      "\n",
      "          [[101., 100.,  99.,  ..., 120., 120., 120.],\n",
      "           [100., 100.,  98.,  ..., 120., 120., 120.],\n",
      "           [ 99.,  99.,  97.,  ..., 120., 120., 120.],\n",
      "           ...,\n",
      "           [  0.,   0.,   1.,  ...,  82.,  42.,  40.],\n",
      "           [  0.,   0.,   1.,  ..., 143.,  89.,  75.],\n",
      "           [  0.,   0.,   1.,  ..., 203., 140.,  81.]],\n",
      "\n",
      "          [[118., 117., 116.,  ..., 127., 127., 127.],\n",
      "           [118., 117., 116.,  ..., 127., 127., 127.],\n",
      "           [118., 117., 116.,  ..., 127., 127., 127.],\n",
      "           ...,\n",
      "           [  0.,   0.,   1.,  ...,  64.,  26.,  25.],\n",
      "           [  0.,   0.,   1.,  ..., 123.,  70.,  56.],\n",
      "           [  0.,   0.,   1.,  ..., 181., 121.,  62.]]],\n",
      "\n",
      "\n",
      "         [[[ 74.,  74.,  75.,  ..., 117., 117., 117.],\n",
      "           [ 78.,  76.,  78.,  ..., 117., 117., 117.],\n",
      "           [ 82.,  80.,  80.,  ..., 117., 117., 117.],\n",
      "           ...,\n",
      "           [  4.,   5.,   5.,  ...,  90.,  56.,  58.],\n",
      "           [  5.,   5.,   6.,  ..., 136.,  87.,  73.],\n",
      "           [  5.,   5.,   6.,  ..., 187., 128.,  69.]],\n",
      "\n",
      "          [[100., 100., 101.,  ..., 120., 120., 120.],\n",
      "           [101., 102., 101.,  ..., 120., 120., 120.],\n",
      "           [103., 103., 101.,  ..., 120., 120., 120.],\n",
      "           ...,\n",
      "           [  0.,   1.,   1.,  ...,  83.,  44.,  42.],\n",
      "           [  1.,   1.,   2.,  ..., 143.,  90.,  76.],\n",
      "           [  1.,   1.,   2.,  ..., 200., 139.,  80.]],\n",
      "\n",
      "          [[117., 117., 118.,  ..., 127., 127., 127.],\n",
      "           [119., 119., 119.,  ..., 127., 127., 127.],\n",
      "           [122., 121., 120.,  ..., 127., 127., 127.],\n",
      "           ...,\n",
      "           [  1.,   2.,   2.,  ...,  67.,  30.,  29.],\n",
      "           [  2.,   2.,   3.,  ..., 125.,  73.,  59.],\n",
      "           [  2.,   2.,   3.,  ..., 180., 122.,  63.]]],\n",
      "\n",
      "\n",
      "         [[[ 74.,  74.,  75.,  ..., 117., 117., 117.],\n",
      "           [ 78.,  76.,  78.,  ..., 117., 117., 117.],\n",
      "           [ 82.,  80.,  80.,  ..., 117., 117., 117.],\n",
      "           ...,\n",
      "           [  4.,   5.,   5.,  ...,  90.,  56.,  58.],\n",
      "           [  5.,   5.,   6.,  ..., 136.,  87.,  73.],\n",
      "           [  5.,   5.,   6.,  ..., 187., 128.,  69.]],\n",
      "\n",
      "          [[100., 100., 101.,  ..., 120., 120., 120.],\n",
      "           [101., 102., 101.,  ..., 120., 120., 120.],\n",
      "           [103., 103., 101.,  ..., 120., 120., 120.],\n",
      "           ...,\n",
      "           [  0.,   1.,   1.,  ...,  83.,  44.,  42.],\n",
      "           [  1.,   1.,   2.,  ..., 143.,  90.,  76.],\n",
      "           [  1.,   1.,   2.,  ..., 200., 139.,  80.]],\n",
      "\n",
      "          [[117., 117., 118.,  ..., 127., 127., 127.],\n",
      "           [119., 119., 119.,  ..., 127., 127., 127.],\n",
      "           [122., 121., 120.,  ..., 127., 127., 127.],\n",
      "           ...,\n",
      "           [  1.,   2.,   2.,  ...,  67.,  30.,  29.],\n",
      "           [  2.,   2.,   3.,  ..., 125.,  73.,  59.],\n",
      "           [  2.,   2.,   3.,  ..., 180., 122.,  63.]]]]]))\n",
      "tensor([[ 0.1866, -0.7555],\n",
      "        [ 0.2406, -0.7969],\n",
      "        [ 0.3397, -0.8768],\n",
      "        [-1.0000, -1.0000],\n",
      "        [ 0.2497, -0.7209],\n",
      "        [ 0.2553, -0.4589],\n",
      "        [ 0.0505, -0.2062],\n",
      "        [-0.0202,  0.0422],\n",
      "        [-0.0239,  0.2893],\n",
      "        [ 0.0020,  0.5272],\n",
      "        [ 0.0180,  0.7599],\n",
      "        [ 0.0156,  0.9546]])\n",
      "torch.Size([1, 12, 3])\n"
     ]
    }
   ],
   "source": [
    "print(tmp)\n",
    "print(tmp[0][0,:,:-1]) # x and y coordinates\n",
    "print(tmp[0].shape)"
   ]
  },
  {
   "cell_type": "code",
   "execution_count": 7,
   "metadata": {},
   "outputs": [
    {
     "name": "stderr",
     "output_type": "stream",
     "text": [
      "5001it [00:23, 213.32it/s]\n"
     ]
    }
   ],
   "source": [
    "all_zeros_count = 0\n",
    "waypoint_min = [[9999, 9999, 999] for i in range(tmp[0].shape[1])]\n",
    "waypoint_max = [[-9999, -9999, -999] for i in range(tmp[0].shape[1])]\n",
    "count = 0\n",
    "for i, data in enumerate(tqdm(dataloader)):\n",
    "    # print(i)\n",
    "    # print(data[0].max())\n",
    "    # print(data[0])\n",
    "    if data[0][0,:,:-1].max() <= 1e-6:\n",
    "        all_zeros_count += 1\n",
    "\n",
    "    for _, waypoints in enumerate(data[0]):\n",
    "        for j, waypoint in enumerate(waypoints):\n",
    "            for k,coordinate in enumerate(waypoint):\n",
    "                if coordinate < waypoint_min[j][k]:\n",
    "                    waypoint_min[j][k] = coordinate.item()\n",
    "                elif coordinate > waypoint_max[j][k]:\n",
    "                    waypoint_max[j][k] = coordinate.item()\n",
    "    \n",
    "    if i > 5000:\n",
    "        break"
   ]
  },
  {
   "cell_type": "code",
   "execution_count": 14,
   "metadata": {},
   "outputs": [
    {
     "name": "stdout",
     "output_type": "stream",
     "text": [
      "26\n",
      "101\n"
     ]
    }
   ],
   "source": [
    "print(all_zeros_count)\n",
    "print(i)"
   ]
  },
  {
   "cell_type": "code",
   "execution_count": null,
   "metadata": {},
   "outputs": [],
   "source": [
    "print(all_zeros_count/(i+1))"
   ]
  },
  {
   "cell_type": "code",
   "execution_count": 8,
   "metadata": {},
   "outputs": [
    {
     "name": "stdout",
     "output_type": "stream",
     "text": [
      "[-0.0332845039665699, -1.0, -0.8062645792961121]\n",
      "[0.1286248117685318, -1.0, -0.7206536531448364]\n",
      "[0.30616500973701477, -1.0, -0.2907021939754486]\n",
      "[-1.0, -1.0, -1.0]\n",
      "[0.10142072290182114, -1.0, -0.6379013657569885]\n",
      "[-0.2268529087305069, -0.9521424770355225, -1.0]\n",
      "[-0.8609055280685425, -0.9287698864936829, -1.0]\n",
      "[-1.0, -0.907497227191925, -1.0]\n",
      "[-1.0, -0.8861192464828491, -1.0]\n",
      "[-1.0, -0.8668367266654968, -1.0]\n",
      "[-1.0, -0.8802236318588257, -1.0]\n",
      "[-1.0, -0.9226405620574951, -1.0]\n"
     ]
    }
   ],
   "source": [
    "for waypoint in waypoint_min:\n",
    "    print(waypoint)"
   ]
  },
  {
   "cell_type": "code",
   "execution_count": 9,
   "metadata": {
    "scrolled": true
   },
   "outputs": [
    {
     "name": "stdout",
     "output_type": "stream",
     "text": [
      "[0.444726824760437, -0.23557864129543304, 0.9999999403953552]\n",
      "[0.3731505274772644, -0.4062672555446625, 0.9999998807907104]\n",
      "[0.3693992495536804, -0.6474551558494568, 0.6995053887367249]\n",
      "[-1.0, -1.0, -1.0]\n",
      "[0.39944735169410706, -0.5756507515907288, 0.47211360931396484]\n",
      "[0.7157794833183289, -0.33090436458587646, 0.8020148873329163]\n",
      "[0.9387130737304688, -0.15308807790279388, 0.96841961145401]\n",
      "[0.927065908908844, 0.0478949211537838, 0.979634702205658]\n",
      "[0.8704726099967957, 0.2893338203430176, 0.9493060111999512]\n",
      "[0.8948606252670288, 0.5272664427757263, 0.9626799821853638]\n",
      "[0.9187260270118713, 0.7599566578865051, 0.9482361674308777]\n",
      "[0.9177979230880737, 0.9545958638191223, 0.9478774666786194]\n"
     ]
    }
   ],
   "source": [
    "for waypoint in waypoint_max:\n",
    "    print(waypoint)"
   ]
  },
  {
   "cell_type": "code",
   "execution_count": null,
   "metadata": {},
   "outputs": [],
   "source": []
  },
  {
   "cell_type": "markdown",
   "metadata": {},
   "source": [
    "# Load sampled data"
   ]
  },
  {
   "cell_type": "code",
   "execution_count": 1,
   "metadata": {},
   "outputs": [],
   "source": [
    "import pandas as pd\n",
    "import numpy as np\n",
    "import os\n",
    "\n",
    "csv_folder = \"/scratch_net/biwidl211/rl_course_10/DiffuseDriveM/visualize_bev/deeplab_image+cmd_report/\"\n",
    "\n",
    "traj_std = np.array([   [0.3209, 4.0127, 0.1432],\n",
    "                        [0.1167, 2.7227, 0.0992],\n",
    "                        [0.0225, 1.3844, 0.0514],\n",
    "                        [0.0000, 0.0000, 0.0000],\n",
    "                        [0.1156, 1.3830, 0.0515],\n",
    "                        [0.3243, 2.7180, 0.0999],\n",
    "                        [0.6107, 4.0036, 0.1449],\n",
    "                        [0.9655, 5.2458, 0.1867],\n",
    "                        [1.3822, 6.4494, 0.2254],\n",
    "                        [1.8558, 7.6204, 0.2616],\n",
    "                        [2.3817, 8.7654, 0.2957],\n",
    "                        [2.9568, 9.8893, 0.3280]])"
   ]
  },
  {
   "cell_type": "code",
   "execution_count": 2,
   "metadata": {},
   "outputs": [
    {
     "name": "stdout",
     "output_type": "stream",
     "text": [
      "result150000b46.csv\n",
      "result150000b57.csv\n",
      "result150000b84.csv\n",
      "result150000b52.csv\n",
      "result150000b85.csv\n",
      "result150000b8.csv\n",
      "result150000b47.csv\n",
      "result150000b67.csv\n",
      "result150000b65.csv\n",
      "result150000b80.csv\n",
      "result150000b89.csv\n",
      "result150000b7.csv\n",
      "result150000b83.csv\n",
      "result150000b33.csv\n",
      "result150000b35.csv\n",
      "result150000b95.csv\n",
      "result150000b55.csv\n",
      "result150000b98.csv\n",
      "result150000b96.csv\n",
      "result150000b26.csv\n",
      "result150000b24.csv\n",
      "result150000b5.csv\n",
      "result150000b13.csv\n",
      "result150000b63.csv\n",
      "result150000b4.csv\n",
      "result150000b40.csv\n",
      "result150000b14.csv\n",
      "result150000b69.csv\n",
      "result150000b20.csv\n",
      "result150000b87.csv\n",
      "result150000b38.csv\n",
      "result150000b54.csv\n",
      "result150000b97.csv\n",
      "result150000b77.csv\n",
      "result150000b64.csv\n",
      "result150000b34.csv\n",
      "result150000b37.csv\n",
      "result150000b92.csv\n",
      "result150000b91.csv\n",
      "result150000b48.csv\n",
      "result150000b10.csv\n",
      "result150000b59.csv\n",
      "result150000b66.csv\n",
      "result150000b79.csv\n",
      "result150000b99.csv\n",
      "result150000b18.csv\n",
      "result150000b28.csv\n",
      "result150000b31.csv\n",
      "result150000b70.csv\n",
      "result150000b12.csv\n",
      "result150000b78.csv\n",
      "result150000b29.csv\n",
      "result150000b44.csv\n",
      "result150000b22.csv\n",
      "result150000b49.csv\n",
      "result150000b23.csv\n",
      "result150000b11.csv\n",
      "result150000b6.csv\n",
      "result150000b90.csv\n",
      "result150000b75.csv\n",
      "result150000b93.csv\n",
      "result150000b68.csv\n",
      "result150000b62.csv\n",
      "result150000b94.csv\n",
      "result150000b30.csv\n",
      "result150000b58.csv\n",
      "result150000b36.csv\n",
      "result150000b82.csv\n",
      "result150000b25.csv\n",
      "result150000b21.csv\n",
      "result150000b86.csv\n",
      "result150000b39.csv\n",
      "result150000b15.csv\n",
      "result150000b16.csv\n",
      "result150000b72.csv\n",
      "result150000b19.csv\n",
      "result150000b50.csv\n",
      "result150000b81.csv\n",
      "result150000b61.csv\n",
      "result150000b1.csv\n",
      "result150000b56.csv\n",
      "result150000b42.csv\n",
      "result150000b53.csv\n",
      "result150000b17.csv\n",
      "result150000b88.csv\n",
      "result150000b51.csv\n",
      "result150000b3.csv\n",
      "result150000b45.csv\n",
      "result150000b32.csv\n",
      "result150000b9.csv\n",
      "result150000b43.csv\n",
      "result150000b71.csv\n",
      "result150000b76.csv\n",
      "result150000b73.csv\n",
      "result150000b74.csv\n",
      "result150000b41.csv\n",
      "result150000b60.csv\n",
      "result150000b0.csv\n",
      "result150000b27.csv\n",
      "result150000b2.csv\n"
     ]
    }
   ],
   "source": [
    "l2_full_list = []\n",
    "for file_path in os.listdir(csv_folder):\n",
    "    if file_path.endswith('.csv'):\n",
    "        print(file_path)\n",
    "        df = pd.read_csv(csv_folder+file_path)\n",
    "        l2_list = []\n",
    "        for i in range(int((len(df.columns)-1)/3)):\n",
    "            x = df['x'+str(i)]\n",
    "            y = df['y'+str(i)]\n",
    "            l2_time = np.array([])\n",
    "            for j in range(len(df.index) - 1):\n",
    "                l2 = np.sqrt(((x[0]-x[j+1])*traj_std[i][0])**2 + ((y[0] - y[j+1])*traj_std[i][1]) **2)\n",
    "                l2_time = np.append(l2_time, l2)\n",
    "            l2_list.append(l2_time)\n",
    "        l2_full_list.append(l2_list)\n",
    "#         break"
   ]
  },
  {
   "cell_type": "code",
   "execution_count": 3,
   "metadata": {},
   "outputs": [
    {
     "name": "stdout",
     "output_type": "stream",
     "text": [
      "11\n"
     ]
    }
   ],
   "source": [
    "int((len(df.columns)-1)/3)\n",
    "print(len(df.index))"
   ]
  },
  {
   "cell_type": "code",
   "execution_count": 4,
   "metadata": {},
   "outputs": [
    {
     "name": "stdout",
     "output_type": "stream",
     "text": [
      "100\n",
      "0.17192087645139115\n",
      "0.12240340435208283\n",
      "0.04737263594646298\n",
      "0.07312910737777464\n",
      "0.018940012437513736\n",
      "0.09112715474092822\n",
      "0.07952984208627187\n",
      "0.1431509516225085\n",
      "0.9138948236368745\n",
      "0.0015509379512073885\n",
      "0.0314198474191451\n",
      "0.03844799625722162\n",
      "0.04777471186771341\n",
      "1.4884037629814137\n",
      "0.09647080403169693\n",
      "0.11169716852784735\n",
      "0.001485813220115869\n",
      "0.08093714340594385\n",
      "0.019114052892463946\n",
      "0.0007879562217628682\n",
      "0.006274650622347737\n",
      "0.04150976564369717\n",
      "0.002886895911029243\n",
      "0.012103886182444469\n",
      "0.055106640871516496\n",
      "0.48721754646054577\n",
      "0.1292768384963506\n",
      "0.8798906070795554\n",
      "0.15605485324686763\n",
      "0.029664356000590704\n",
      "0.3275148265048128\n",
      "0.001457853018304702\n",
      "0.02310660675896189\n",
      "0.07073884314497582\n",
      "0.0016788152252246863\n",
      "0.5201834486380167\n",
      "0.016366259315813765\n",
      "0.07592011727980481\n",
      "0.0344078908661347\n",
      "0.12038904162928828\n",
      "0.08330629028566193\n",
      "0.05219640180950602\n",
      "0.03596608884192625\n",
      "1.7270354795216438\n",
      "0.3322439749773458\n",
      "0.09409824786652796\n",
      "0.0011613773097234475\n",
      "0.045748395816424495\n",
      "0.004540029235902704\n",
      "1.59625864495908\n",
      "0.00116644714671952\n",
      "0.49921999735906475\n",
      "0.6492382095907435\n",
      "0.17678296982818445\n",
      "0.19166234428323098\n",
      "0.023068851151049397\n",
      "0.4296278233636972\n",
      "0.33460348108154964\n",
      "0.09598286948566115\n",
      "0.05075811703316759\n",
      "0.10475686355874203\n",
      "0.23504605398799588\n",
      "0.08230598486917794\n",
      "0.137642635286332\n",
      "0.0031481983223495243\n",
      "0.11511048179992392\n",
      "0.7654420702187792\n",
      "0.3644949551323745\n",
      "0.003276301593626471\n",
      "0.9882126098948436\n",
      "0.0026663253829421725\n",
      "0.00034770074540665735\n",
      "0.00987402863760246\n",
      "1.1109541343026035\n",
      "0.011937143946004928\n",
      "0.05846389572733993\n",
      "0.12834450824648053\n",
      "0.0013564773018265041\n",
      "0.26217707731878953\n",
      "1.34816535155464\n",
      "0.12100824860705202\n",
      "0.04535806399880206\n",
      "0.11230754278443793\n",
      "0.07614131266757293\n",
      "0.1644902496421173\n",
      "0.07730567380047303\n",
      "0.0055471157325041815\n",
      "0.37832135126713884\n",
      "0.008828659986560638\n",
      "0.35052380840123953\n",
      "0.2089247595970157\n",
      "0.6294440595626642\n",
      "0.034398561919126845\n",
      "0.6729498077157727\n",
      "0.13765453264688848\n",
      "0.005351684417336848\n",
      "0.08285591875968583\n",
      "1.0561162233094459\n",
      "0.45698704236541915\n",
      "0.0017847524409528338\n"
     ]
    }
   ],
   "source": [
    "print(len(l2_full_list))\n",
    "overall_sum = np.array([0] * 12)\n",
    "for data in l2_full_list:\n",
    "    print(np.mean(data[4]))\n",
    "    for i in range(12):\n",
    "        overall_sum[i] += (data[i].mean())\n",
    "    "
   ]
  },
  {
   "cell_type": "code",
   "execution_count": 5,
   "metadata": {},
   "outputs": [
    {
     "name": "stdout",
     "output_type": "stream",
     "text": [
      "[0.   0.   0.   0.   0.06 0.39 0.94 1.65 2.52 3.5  4.52 5.51]\n"
     ]
    }
   ],
   "source": [
    "print(overall_sum/len(l2_full_list))"
   ]
  },
  {
   "cell_type": "code",
   "execution_count": null,
   "metadata": {},
   "outputs": [],
   "source": []
  },
  {
   "cell_type": "code",
   "execution_count": null,
   "metadata": {},
   "outputs": [],
   "source": []
  }
 ],
 "metadata": {
  "kernelspec": {
   "display_name": "Python 3 (ipykernel)",
   "language": "python",
   "name": "python3"
  },
  "language_info": {
   "codemirror_mode": {
    "name": "ipython",
    "version": 3
   },
   "file_extension": ".py",
   "mimetype": "text/x-python",
   "name": "python",
   "nbconvert_exporter": "python",
   "pygments_lexer": "ipython3",
   "version": "3.9.16"
  },
  "vscode": {
   "interpreter": {
    "hash": "8d61cc58e210cc5ccd3f9fb4b8fb21e7e3414dfbed8a78c294987a8da80c478a"
   }
  }
 },
 "nbformat": 4,
 "nbformat_minor": 2
}
