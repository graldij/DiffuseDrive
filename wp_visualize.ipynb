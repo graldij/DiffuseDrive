{
 "cells": [
  {
   "cell_type": "code",
   "execution_count": 1,
   "metadata": {},
   "outputs": [
    {
     "name": "stderr",
     "output_type": "stream",
     "text": [
      "2023-06-05 16:03:34,115 - INFO - MUJOCO_GL is not set, so an OpenGL backend will be chosen automatically.\n",
      "2023-06-05 16:03:34,125 - INFO - Successfully imported OpenGL backend: glfw\n",
      "2023-06-05 16:03:34,179 - INFO - MuJoCo library version is: 2.3.5\n",
      "pybullet build time: May 20 2022 19:44:17\n",
      "/scratch_net/biwidl216/rl_course_14/conda_envs/diffuser_planning/lib/python3.8/site-packages/tqdm/auto.py:21: TqdmWarning: IProgress not found. Please update jupyter and ipywidgets. See https://ipywidgets.readthedocs.io/en/stable/user_install.html\n",
      "  from .autonotebook import tqdm as notebook_tqdm\n"
     ]
    }
   ],
   "source": [
    "import sys\n",
    "import os\n",
    "# caution: path[0] is reserved for script path (or '' in REPL)\n",
    "os.environ['MUJOCO_PY_MUJOCO_PATH']='/scratch_net/biwidl216/rl_course_14/.mujoco/mujoco210'\n",
    "\n",
    "#add DiffuseDrive to path. Dont know why, but else diffuser folder is not seen.\n",
    "# os.environ['PYTHONPATH'] = str(os.environ['PYTHONPATH']) + '~/DiffuseDrive'\n",
    "\n",
    "import diffuser.utils as utils\n",
    "import torch\n",
    "import wandb\n",
    "# logging.basicConfig(filename='logs/training.log', encoding='utf-8', level=logging.INFO)\n",
    "from logger_module import logger\n",
    "from tqdm import tqdm"
   ]
  },
  {
   "cell_type": "code",
   "execution_count": 2,
   "metadata": {},
   "outputs": [
    {
     "name": "stdout",
     "output_type": "stream",
     "text": [
      "[ utils/config ] Imported diffuser.datasets:CollectedSequenceDataset\n",
      "\n",
      "[utils/config ] Config: <class 'diffuser.datasets.sequence.CollectedSequenceDataset'>\n",
      "    discount: 0.99\n",
      "    env: carla-expert\n",
      "    horizon: 12\n",
      "    include_returns: True\n",
      "    is_valid: True\n",
      "    max_path_length: 10\n",
      "    normalizer: CDFNormalizer\n",
      "    past_image_cond: False\n",
      "    preprocess_fns: []\n",
      "    returns_scale: 400\n",
      "    termination_penalty: -100\n",
      "    use_padding: True\n",
      "    using_cmd: True\n",
      "\n",
      "[ utils/config ] Saved config to: dataset_config.pkl\n",
      "\n"
     ]
    }
   ],
   "source": [
    "dataset_config = utils.Config(\n",
    "    'datasets.CollectedSequenceDataset',\n",
    "    savepath='dataset_config.pkl',\n",
    "    env='carla-expert',\n",
    "    horizon=12,\n",
    "    normalizer='CDFNormalizer',\n",
    "    preprocess_fns=[],\n",
    "    use_padding=True,\n",
    "    max_path_length=10,\n",
    "    include_returns=True,\n",
    "    returns_scale=400,\n",
    "    discount=0.99,\n",
    "    termination_penalty=-100,\n",
    "    past_image_cond = False, \n",
    "    is_valid=True,\n",
    "    using_cmd=True,\n",
    ")\n",
    "\n",
    "dataset = dataset_config()"
   ]
  },
  {
   "cell_type": "code",
   "execution_count": 3,
   "metadata": {},
   "outputs": [],
   "source": [
    "import numpy as np\n",
    "import matplotlib.pyplot as plt\n",
    "from PIL import Image\n",
    "import time\n",
    "import json"
   ]
  },
  {
   "cell_type": "code",
   "execution_count": 4,
   "metadata": {},
   "outputs": [
    {
     "data": {
      "text/plain": [
       "array([[[0, 0, 0],\n",
       "        [0, 0, 0],\n",
       "        [0, 0, 0],\n",
       "        ...,\n",
       "        [0, 0, 0],\n",
       "        [0, 0, 0],\n",
       "        [0, 0, 0]],\n",
       "\n",
       "       [[0, 0, 0],\n",
       "        [0, 0, 0],\n",
       "        [0, 0, 0],\n",
       "        ...,\n",
       "        [0, 0, 0],\n",
       "        [0, 0, 0],\n",
       "        [0, 0, 0]],\n",
       "\n",
       "       [[0, 0, 0],\n",
       "        [0, 0, 0],\n",
       "        [0, 0, 0],\n",
       "        ...,\n",
       "        [0, 0, 0],\n",
       "        [0, 0, 0],\n",
       "        [0, 0, 0]],\n",
       "\n",
       "       ...,\n",
       "\n",
       "       [[0, 0, 0],\n",
       "        [0, 0, 0],\n",
       "        [0, 0, 0],\n",
       "        ...,\n",
       "        [0, 0, 0],\n",
       "        [0, 0, 0],\n",
       "        [0, 0, 0]],\n",
       "\n",
       "       [[0, 0, 0],\n",
       "        [0, 0, 0],\n",
       "        [0, 0, 0],\n",
       "        ...,\n",
       "        [0, 0, 0],\n",
       "        [0, 0, 0],\n",
       "        [0, 0, 0]],\n",
       "\n",
       "       [[0, 0, 0],\n",
       "        [0, 0, 0],\n",
       "        [0, 0, 0],\n",
       "        ...,\n",
       "        [0, 0, 0],\n",
       "        [0, 0, 0],\n",
       "        [0, 0, 0]]], dtype=uint8)"
      ]
     },
     "execution_count": 4,
     "metadata": {},
     "output_type": "execute_result"
    }
   ],
   "source": [
    "next(iter(dataset))[2]"
   ]
  },
  {
   "cell_type": "code",
   "execution_count": null,
   "metadata": {},
   "outputs": [],
   "source": [
    "def transform_2d_points(xyz, r1, t1_x, t1_y, r2, t2_x, t2_y):\n",
    "        \"\"\"\n",
    "        Build a rotation matrix and take the dot product.\n",
    "        \"\"\"\n",
    "        # z value to 1 for rotation\n",
    "        xy1 = xyz.copy()\n",
    "        xy1[:, 2] = 1\n",
    "        xy1_front = xy1.copy()\n",
    "        xy1_front[:,0] += 1.0\n",
    "\n",
    "        c, s = np.cos(r1), np.sin(r1)\n",
    "        r1_to_world = np.matrix([[c, s, t1_x], [-s, c, t1_y], [0, 0, 1]])\n",
    "\n",
    "        # np.dot converts to a matrix, so we explicitly change it back to an array\n",
    "        world = np.asarray(r1_to_world @ xy1.T)\n",
    "        world_front = np.asarray(r1_to_world @ xy1_front.T)\n",
    "\n",
    "        c, s = np.cos(r2), np.sin(r2)\n",
    "        r2_to_world = np.matrix([[c, s, t2_x], [-s, c, t2_y], [0, 0, 1]])\n",
    "        world_to_r2 = np.linalg.inv(r2_to_world)\n",
    "\n",
    "        out = np.asarray(world_to_r2 @ world).T\n",
    "        out_front = np.asarray(world_to_r2 @ world_front).T\n",
    "        # reset z-coordinate\n",
    "        out[:, 2] = np.arctan2(out_front[:,1]-out[:,1], out_front[:,0] - out[:,0])\n",
    "\n",
    "        return out\n",
    "\n",
    "##here gps:=ego wp\n",
    "def convert_gps_to_ego(gps_waypoints, current_gps_waypoint):\n",
    "        ego_waypoint = [None] * len(gps_waypoints)\n",
    "        for t in range(len(gps_waypoints)):\n",
    "            if not isinstance(gps_waypoints[t], np.ndarray):\n",
    "                break\n",
    "\n",
    "            ego_waypoint[t] = transform_2d_points(\n",
    "                np.zeros((1,3)),\n",
    "                np.pi / 2 - gps_waypoints[t][2],\n",
    "                    -gps_waypoints[t][0],\n",
    "                    -gps_waypoints[t][1],\n",
    "                    np.pi / 2 - current_gps_waypoint[2],\n",
    "                    -current_gps_waypoint[0],\n",
    "                    -current_gps_waypoint[1],\n",
    "            )\n",
    "        return ego_waypoint"
   ]
  },
  {
   "cell_type": "code",
   "execution_count": null,
   "metadata": {},
   "outputs": [],
   "source": [
    "## birdview size=(400,400), ego vihecle is centered\n",
    "def vis_with_bev(bev_img, traj, color):\n",
    "    ## Set up figure\n",
    "    fig, ax = plt.subplots()\n",
    "    plt.rcParams[\"figure.figsize\"] = (6,6)\n",
    "    margin_max = 400  #sample_t.max()+1\n",
    "    margin_min = 0   #sample_t.min()-1\n",
    "    norm = plt.Normalize(margin_min, margin_max)\n",
    "    ax.set_xlim(margin_min, margin_max)\n",
    "    ax.set_ylim(margin_min, margin_max)\n",
    "    img = Image.fromarray(bev_img)\n",
    "    img = img.transpose(Image.FLIP_TOP_BOTTOM)\n",
    "    img = img.resize((500,500))\n",
    "    \n",
    "    ax.imshow(img, extent=[0,500,0,500])\n",
    "\n",
    "    ## for color display\n",
    "    length = len(traj)*2\n",
    "    for i, poses in enumerate(traj):\n",
    "        dx = np.cos(poses[-1]-np.pi/2)/5\n",
    "        dy = np.sin(poses[-1]-np.pi/2)/5\n",
    "        # ,alpha=0.5+i/length\n",
    "        #waypoint = np.around(poses*5+20*10).astype(int)\n",
    "        waypoint = poses*5+250\n",
    "        #pos_0 = (poses[0]+offset)\n",
    "        ax.scatter(waypoint[0], waypoint[1],s=10, color=color, alpha=0.5+i/length)\n",
    "        if i == 11:\n",
    "            ax.arrow(waypoint[0], waypoint[1], dx, dy, head_width=7, color='blue',alpha=0.5+i/length)\n",
    "        if i== 3:\n",
    "            ax.text(waypoint[0]-0.05, waypoint[1]+0.05, 'c', fontsize=10)\n",
    "        #ax.text(poses[0]-0.05+offset, poses[1]+0.05+offset, i, fontsize=15)\n",
    "    ## In actual use: plt.savefig\n",
    "    plt.show()\n"
   ]
  },
  {
   "cell_type": "code",
   "execution_count": null,
   "metadata": {},
   "outputs": [],
   "source": [
    "i=0\n",
    "samples = []\n",
    "for data in dataset:\n",
    "    sample_t, _, birdview = data\n",
    "    if  25<=i<=35 and i%5==0:\n",
    "        print(i)\n",
    "        #img = Image.open(\"../birdview/%04d.jpg\"%(i+3))\n",
    "        vis_with_bev(birdview, sample_t, \"yellow\")\n",
    "        #print(sample_t)\n",
    "        #samples.append(sample_t)\n",
    "        time.sleep(1)\n",
    "    i+=1\n",
    "    if i==35: \n",
    "        break\n",
    "#img = Image.open(\"../birdview/0058.jpg\")\n",
    "#vis_with_bev(img, sample_t, \"purple\")"
   ]
  },
  {
   "cell_type": "code",
   "execution_count": null,
   "metadata": {},
   "outputs": [],
   "source": [
    "i=150\n",
    "img=Image.open(\"../birdview/%04d.jpg\"%i)\n",
    "path = \"../sample_test/weather-0/data/routes_town02_long_w0_04_16_17_24_03/measurements/\"\n",
    "\n",
    "sample_x = []\n",
    "sample_y = []\n",
    "sample_z = []\n",
    "while i<=180:\n",
    "    data = json.load(open(path+\"%04d.json\"%i))\n",
    "    sample_x.append(data.get(\"gps_x\"))\n",
    "    sample_y.append(data.get(\"gps_y\"))\n",
    "    sample_z.append(data.get(\"theta\"))\n",
    "    i+=1"
   ]
  },
  {
   "cell_type": "code",
   "execution_count": null,
   "metadata": {},
   "outputs": [],
   "source": [
    "sample_x_a = np.array(sample_x)\n",
    "sample_y_a = np.array(sample_y)\n",
    "sample_z_a = np.array(sample_z)\n",
    "samples = np.hstack([sample_x_a[:,np.newaxis], sample_y_a[:,np.newaxis], sample_z_a[:,np.newaxis]])"
   ]
  },
  {
   "cell_type": "code",
   "execution_count": null,
   "metadata": {},
   "outputs": [],
   "source": [
    "ego_samples = convert_gps_to_ego(samples, samples[0])\n",
    "ego_samples = np.array(ego_samples).reshape((-1,3))"
   ]
  },
  {
   "cell_type": "code",
   "execution_count": null,
   "metadata": {},
   "outputs": [],
   "source": [
    "#samples = np.concatenate(sample_x_a, sample_y_a)\n",
    "\n",
    "fig, ax = plt.subplots()\n",
    "plt.rcParams[\"figure.figsize\"] = (6,6)\n",
    "margin_max = 450  #sample_t.max()+1\n",
    "margin_min = 50   #sample_t.min()-1\n",
    "norm = plt.Normalize(margin_min, margin_max)\n",
    "ax.set_xlim(margin_min, margin_max)\n",
    "ax.set_ylim(margin_min, margin_max)\n",
    "img1 = img.transpose(Image.FLIP_TOP_BOTTOM)\n",
    "img1 = img1.resize((500,500))\n",
    "ax.imshow(img1, extent=[0,500,0,500])\n",
    "\n",
    "## for color display\n",
    "length = len(sample_x)*2\n",
    "\n",
    "for i, poses in enumerate(ego_samples):\n",
    "    dx = np.cos(poses[-1]-np.pi/2)/5\n",
    "    dy = np.sin(poses[-1]-np.pi/2)/5\n",
    "    # ,alpha=0.5+i/length\n",
    "    waypoint = poses*5+250\n",
    "    #pos_0 = (poses[0]+offset)\n",
    "    ax.scatter(waypoint[0], waypoint[1],s=10, color='red', alpha=0.5+i/length)\n",
    "    if i == 11:\n",
    "        ax.arrow(waypoint[0], waypoint[1], dx, dy, head_width=2, color='blue',alpha=0.5+i/length)\n",
    "    if i== 0:\n",
    "        ax.text(waypoint[0]-0.05, waypoint[1]+0.05, i, fontsize=10)\n",
    "        print(waypoint[0])\n",
    "        print(waypoint[1])\n",
    "    #ax.text(poses[0]-0.05+offset, poses[1]+0.05+offset, i, fontsize=15)\n",
    "## In actual use: plt.savefig\n",
    "plt.show()"
   ]
  },
  {
   "cell_type": "code",
   "execution_count": null,
   "metadata": {},
   "outputs": [],
   "source": [
    "traj_samples = []\n",
    "i=1\n",
    "traj_samples.append(samples[0])\n",
    "traj_samples.append(convert_ego_to_gps(samples[0], np.array([-130.995,\n",
    "193.721, 6.27191781997])))"
   ]
  },
  {
   "cell_type": "code",
   "execution_count": null,
   "metadata": {},
   "outputs": [],
   "source": [
    "traj_samples[0]"
   ]
  },
  {
   "cell_type": "code",
   "execution_count": null,
   "metadata": {},
   "outputs": [],
   "source": [
    "traj_samples[1]"
   ]
  },
  {
   "cell_type": "code",
   "execution_count": null,
   "metadata": {},
   "outputs": [],
   "source": [
    "def cycle(dl):\n",
    "    while True:\n",
    "        for data in dl:\n",
    "            yield data"
   ]
  },
  {
   "cell_type": "code",
   "execution_count": null,
   "metadata": {},
   "outputs": [],
   "source": [
    "dataloader = cycle(torch.utils.data.DataLoader(\n",
    "    dataset, batch_size=1, num_workers=0, pin_memory=True, shuffle = False\n",
    "))"
   ]
  },
  {
   "cell_type": "code",
   "execution_count": null,
   "metadata": {},
   "outputs": [],
   "source": [
    "tmp = next(dataloader)\n"
   ]
  },
  {
   "cell_type": "code",
   "execution_count": null,
   "metadata": {},
   "outputs": [],
   "source": [
    "print(tmp[0])\n",
    "print(tmp[0][0,:,:-1]) # x and y coordinates"
   ]
  },
  {
   "cell_type": "code",
   "execution_count": null,
   "metadata": {},
   "outputs": [],
   "source": [
    "all_zeros_count = 0\n",
    "for i, data in enumerate(tqdm(dataloader)):\n",
    "    # print(i)\n",
    "    # print(data[0].max())\n",
    "    # print(data[0])\n",
    "    if data[0][0,:,:-1].max() <= 1e-6:\n",
    "        all_zeros_count += 1\n",
    "    \n",
    "    if i > 50000:\n",
    "        break"
   ]
  },
  {
   "cell_type": "code",
   "execution_count": null,
   "metadata": {},
   "outputs": [],
   "source": [
    "print(all_zeros_count)\n",
    "print(i)"
   ]
  },
  {
   "cell_type": "code",
   "execution_count": null,
   "metadata": {},
   "outputs": [],
   "source": [
    "print(all_zeros_count/(i+1))"
   ]
  },
  {
   "cell_type": "markdown",
   "metadata": {},
   "source": [
    "# Load trained model and generate waypoints"
   ]
  },
  {
   "cell_type": "code",
   "execution_count": 5,
   "metadata": {},
   "outputs": [
    {
     "name": "stdout",
     "output_type": "stream",
     "text": [
      "[ utils/setup ] Reading config: config.carla:carla_expert\n",
      "[ utils/setup ] Not using overrides | config: config.carla | dataset: carla_expert\n",
      "[ utils/setup ] Setting seed: 100\n",
      "[ utils/setup ] Setting exp_name to: diffusion/defaults_H12_T200_d1\n",
      "[ utils/setup ] Saved args to logs/carla-expert/diffusion/defaults_H12_T200_d1/args.json\n",
      "[ utils/config ] Imported diffuser.datasets:CollectedSequenceDataset\n",
      "\n",
      "[utils/config ] Config: <class 'diffuser.datasets.sequence.CollectedSequenceDataset'>\n",
      "    discount: 1\n",
      "    env: carla-expert\n",
      "    horizon: 12\n",
      "    include_returns: True\n",
      "    max_path_length: 10\n",
      "    normalizer: CDFNormalizer\n",
      "    past_image_cond: True\n",
      "    preprocess_fns: []\n",
      "    returns_scale: 400.0\n",
      "    termination_penalty: -100\n",
      "    use_padding: True\n",
      "    using_cmd: True\n",
      "    waypoints_normalization: full_space\n",
      "\n",
      "[ utils/config ] Saved config to: dataset_config.pkl\n",
      "\n",
      "[ utils/config ] Imported diffuser.datasets:CollectedSequenceDataset\n",
      "\n",
      "[utils/config ] Config: <class 'diffuser.datasets.sequence.CollectedSequenceDataset'>\n",
      "    discount: 1\n",
      "    env: carla-expert\n",
      "    horizon: 12\n",
      "    include_returns: True\n",
      "    is_valid: True\n",
      "    max_path_length: 10\n",
      "    normalizer: CDFNormalizer\n",
      "    past_image_cond: True\n",
      "    preprocess_fns: []\n",
      "    returns_scale: 400.0\n",
      "    termination_penalty: -100\n",
      "    use_padding: True\n",
      "    using_cmd: True\n",
      "    waypoints_normalization: full_space\n",
      "\n",
      "[ utils/config ] Saved config to: tmp\n",
      "\n"
     ]
    }
   ],
   "source": [
    "class Parser(utils.Parser):\n",
    "    dataset: str = 'carla-expert'\n",
    "    config: str = 'config.carla'\n",
    "\n",
    "args = Parser().parse_args('diffusion')\n",
    "\n",
    "dataset_config = utils.Config(\n",
    "    args.loader,\n",
    "    savepath='dataset_config.pkl',\n",
    "    env=args.dataset,\n",
    "    horizon=args.horizon,\n",
    "    normalizer=args.normalizer,\n",
    "    preprocess_fns=args.preprocess_fns,\n",
    "    use_padding=args.use_padding,\n",
    "    max_path_length=args.max_path_length,\n",
    "    include_returns=args.include_returns,\n",
    "    returns_scale=args.returns_scale,\n",
    "    discount=args.discount,\n",
    "    termination_penalty=args.termination_penalty,\n",
    "    past_image_cond = args.past_image_cond,\n",
    "    waypoints_normalization = args.waypoints_normalization,\n",
    "    using_cmd = args.using_cmd,\n",
    ")\n",
    "\n",
    "## TODO from Minxuan: need check from Jacopo if it works\n",
    "valid_dataset_config = utils.Config(\n",
    "    args.loader,\n",
    "    savepath='tmp',\n",
    "    env=args.dataset,\n",
    "    horizon=args.horizon,\n",
    "    normalizer=args.normalizer,\n",
    "    preprocess_fns=args.preprocess_fns,\n",
    "    use_padding=args.use_padding,\n",
    "    max_path_length=args.max_path_length,\n",
    "    include_returns=args.include_returns,\n",
    "    returns_scale=args.returns_scale,\n",
    "    discount=args.discount,\n",
    "    termination_penalty=args.termination_penalty,\n",
    "    past_image_cond = args.past_image_cond,\n",
    "    waypoints_normalization = args.waypoints_normalization,\n",
    "    is_valid = True,\n",
    "    using_cmd = args.using_cmd,\n",
    ")\n",
    "\n",
    "dataset = dataset_config()\n",
    "valid_dataset = valid_dataset_config()\n",
    "# renderer = render_config()\n",
    "renderer = None\n",
    "observation_dim = dataset.observation_dim\n",
    "action_dim = dataset.action_dim"
   ]
  },
  {
   "cell_type": "code",
   "execution_count": 6,
   "metadata": {},
   "outputs": [
    {
     "name": "stdout",
     "output_type": "stream",
     "text": [
      "[ utils/config ] Imported diffuser.models:TemporalUnetCarla\n",
      "\n",
      "[utils/config ] Config: <class 'diffuser.models.temporal.TemporalUnetCarla'>\n",
      "    calc_energy: False\n",
      "    cond_dim: 3\n",
      "    condition_dropout: 0.1\n",
      "    dim: 128\n",
      "    dim_mults: (1, 4, 8)\n",
      "    horizon: 12\n",
      "    image_backbone: lraspp_mobilenet\n",
      "    image_backbone_freeze: True\n",
      "    past_image_cond: True\n",
      "    returns_condition: True\n",
      "    transition_dim: 3\n",
      "    using_cmd: True\n",
      "\n",
      "[ utils/config ] Saved config to: model_config.pkl\n",
      "\n",
      "[ utils/config ] Imported diffuser.models:GaussianInvDynDiffusionCarla\n",
      "\n",
      "[utils/config ] Config: <class 'diffuser.models.diffusion.GaussianInvDynDiffusionCarla'>\n",
      "    action_dim: 0\n",
      "    action_weight: 10\n",
      "    ar_inv: False\n",
      "    clip_denoised: True\n",
      "    condition_guidance_w: 1.2\n",
      "    hidden_dim: 256\n",
      "    horizon: 12\n",
      "    loss_discount: 1\n",
      "    loss_type: l2\n",
      "    loss_weights: None\n",
      "    n_timesteps: 200\n",
      "    observation_dim: 3\n",
      "    predict_epsilon: True\n",
      "    returns_condition: True\n",
      "    train_only_inv: False\n",
      "\n",
      "[ utils/config ] Saved config to: diffusion_config.pkl\n",
      "\n",
      "\n",
      "[utils/config ] Config: <class 'diffuser.utils.training.Trainer'>\n",
      "    bucket: None\n",
      "    ema_decay: 0.995\n",
      "    final_model_path: trained_models/\n",
      "    gradient_accumulate_every: 4\n",
      "    label_freq: 200\n",
      "    log_freq: 10\n",
      "    lr_decay: 0.5\n",
      "    lr_decay_steps: 200\n",
      "    n_reference: 8\n",
      "    sample_freq: 50\n",
      "    save_checkpoints: False\n",
      "    save_final: True\n",
      "    save_freq: 1000\n",
      "    save_parallel: False\n",
      "    train_batch_size: 16\n",
      "    train_device: cuda\n",
      "    train_lr: 0.0001\n",
      "\n",
      "[ utils/config ] Saved config to: trainer_config.pkl\n",
      "\n"
     ]
    }
   ],
   "source": [
    "model_config = utils.Config(\n",
    "    args.model,\n",
    "    image_backbone = args.image_backbone,\n",
    "    savepath='model_config.pkl',\n",
    "    horizon=args.horizon,\n",
    "    transition_dim=observation_dim + action_dim,\n",
    "    cond_dim=observation_dim,\n",
    "    dim_mults=args.dim_mults,\n",
    "    returns_condition=args.returns_condition,\n",
    "    dim=args.dim,\n",
    "    condition_dropout=args.condition_dropout,\n",
    "    calc_energy=args.calc_energy,\n",
    "    device=args.device,\n",
    "    past_image_cond = args.past_image_cond,\n",
    "    image_backbone_freeze = args.image_backbone_freeze,\n",
    "    using_cmd = args.using_cmd,\n",
    "    # attention??\n",
    ")\n",
    "\n",
    "diffusion_config = utils.Config(\n",
    "    args.diffusion,\n",
    "    savepath='diffusion_config.pkl',\n",
    "    horizon=args.horizon,\n",
    "    observation_dim=observation_dim,\n",
    "    action_dim=action_dim,\n",
    "    n_timesteps=args.n_diffusion_steps,\n",
    "    loss_type=args.loss_type,\n",
    "    clip_denoised=args.clip_denoised,\n",
    "    predict_epsilon=args.predict_epsilon,\n",
    "    hidden_dim=args.hidden_dim,\n",
    "    ar_inv=args.ar_inv,\n",
    "    train_only_inv=args.train_only_inv,\n",
    "    ## loss weighting\n",
    "    action_weight=args.action_weight,\n",
    "    loss_weights=args.loss_weights,\n",
    "    loss_discount=args.loss_discount,\n",
    "    returns_condition=args.returns_condition,\n",
    "    condition_guidance_w=args.condition_guidance_w,\n",
    "    device=args.device,\n",
    ")\n",
    "\n",
    "trainer_config = utils.Config(\n",
    "    utils.Trainer,\n",
    "    savepath='trainer_config.pkl',\n",
    "    train_batch_size=args.batch_size,\n",
    "    train_lr=args.learning_rate,\n",
    "    lr_decay=args.lr_decay,\n",
    "    lr_decay_steps=args.lr_decay_steps,\n",
    "    gradient_accumulate_every=args.gradient_accumulate_every,\n",
    "    ema_decay=args.ema_decay,\n",
    "    sample_freq=args.sample_freq,\n",
    "    save_freq=args.save_freq,\n",
    "    log_freq=args.log_freq,\n",
    "    label_freq=int(args.n_train_steps // args.n_saves),\n",
    "    save_parallel=args.save_parallel,\n",
    "    bucket=args.bucket,\n",
    "    n_reference=args.n_reference,\n",
    "    train_device=args.device,\n",
    "    save_checkpoints=args.save_checkpoints,\n",
    "    save_final=args.save_final,\n",
    "    final_model_path = args.final_model_path,\n",
    ")"
   ]
  },
  {
   "cell_type": "code",
   "execution_count": 7,
   "metadata": {},
   "outputs": [
    {
     "name": "stdout",
     "output_type": "stream",
     "text": [
      "[ models/temporal ] Channel dimensions: [(3, 128), (128, 512), (512, 1024)]\n",
      "[(3, 128), (128, 512), (512, 1024)]\n"
     ]
    },
    {
     "name": "stderr",
     "output_type": "stream",
     "text": [
      "/scratch_net/biwidl216/rl_course_14/conda_envs/diffuser_planning/lib/python3.8/site-packages/torch/nn/init.py:405: UserWarning: Initializing zero-element tensors is a no-op\n",
      "  warnings.warn(\"Initializing zero-element tensors is a no-op\")\n",
      "/scratch_net/biwidl216/rl_course_14/conda_envs/diffuser_planning/lib/python3.8/site-packages/notebook/utils.py:280: DeprecationWarning: distutils Version classes are deprecated. Use packaging.version instead.\n",
      "  return LooseVersion(v) >= LooseVersion(check)\n",
      "\u001b[34m\u001b[1mwandb\u001b[0m: Currently logged in as: \u001b[33mleongkhing96\u001b[0m (\u001b[33mmleong\u001b[0m). Use \u001b[1m`wandb login --relogin`\u001b[0m to force relogin\n",
      "/scratch_net/biwidl216/rl_course_14/conda_envs/diffuser_planning/lib/python3.8/site-packages/wandb/sdk/lib/ipython.py:47: DeprecationWarning: Importing display from IPython.core.display is deprecated since IPython 7.14, please import from IPython display\n",
      "  from IPython.core.display import HTML, display  # type: ignore\n"
     ]
    },
    {
     "data": {
      "text/html": [
       "wandb version 0.15.3 is available!  To upgrade, please run:\n",
       " $ pip install wandb --upgrade"
      ],
      "text/plain": [
       "<IPython.core.display.HTML object>"
      ]
     },
     "metadata": {},
     "output_type": "display_data"
    },
    {
     "data": {
      "text/html": [
       "Tracking run with wandb version 0.14.2"
      ],
      "text/plain": [
       "<IPython.core.display.HTML object>"
      ]
     },
     "metadata": {},
     "output_type": "display_data"
    },
    {
     "data": {
      "text/html": [
       "Run data is saved locally in <code>/scratch_net/biwidl216/rl_course_14/project/our_approach/DiffuseDriveClean/wandb/run-20230605_160344-9du0bb7c</code>"
      ],
      "text/plain": [
       "<IPython.core.display.HTML object>"
      ]
     },
     "metadata": {},
     "output_type": "display_data"
    },
    {
     "data": {
      "text/html": [
       "Syncing run <strong><a href='https://wandb.ai/mleong/diffuse_drive/runs/9du0bb7c' target=\"_blank\">breezy-microwave-249</a></strong> to <a href='https://wandb.ai/mleong/diffuse_drive' target=\"_blank\">Weights & Biases</a> (<a href='https://wandb.me/run' target=\"_blank\">docs</a>)<br/>"
      ],
      "text/plain": [
       "<IPython.core.display.HTML object>"
      ]
     },
     "metadata": {},
     "output_type": "display_data"
    },
    {
     "data": {
      "text/html": [
       " View project at <a href='https://wandb.ai/mleong/diffuse_drive' target=\"_blank\">https://wandb.ai/mleong/diffuse_drive</a>"
      ],
      "text/plain": [
       "<IPython.core.display.HTML object>"
      ]
     },
     "metadata": {},
     "output_type": "display_data"
    },
    {
     "data": {
      "text/html": [
       " View run at <a href='https://wandb.ai/mleong/diffuse_drive/runs/9du0bb7c' target=\"_blank\">https://wandb.ai/mleong/diffuse_drive/runs/9du0bb7c</a>"
      ],
      "text/plain": [
       "<IPython.core.display.HTML object>"
      ]
     },
     "metadata": {},
     "output_type": "display_data"
    }
   ],
   "source": [
    "model = model_config()\n",
    "\n",
    "diffusion = diffusion_config(model)\n",
    "\n",
    "wandb_run = wandb.init(project=\"diffuse_drive\", entity=\"mleong\", config=args)\n",
    "trainer = trainer_config(diffusion, dataset, valid_dataset, renderer, wandb_run)"
   ]
  },
  {
   "cell_type": "code",
   "execution_count": 8,
   "metadata": {},
   "outputs": [
    {
     "name": "stdout",
     "output_type": "stream",
     "text": [
      "True\n"
     ]
    }
   ],
   "source": [
    "print(model.past_image_cond)"
   ]
  },
  {
   "cell_type": "code",
   "execution_count": 9,
   "metadata": {},
   "outputs": [],
   "source": [
    "if args.using_cmd and args.past_image_cond:\n",
    "    trainer.load(\"/scratch_net/biwidl216/rl_course_14/project/our_approach/DiffuseDriveClean/trained_models/step_model_ema_cmd.pt\")\n",
    "elif args.past_image_cond:\n",
    "    trainer.load(\"/scratch_net/biwidl216/rl_course_14/project/our_approach/DiffuseDriveClean/trained_models/step_model_ema.pt\")\n",
    "else:\n",
    "    print(\"load unconditioned model\")\n",
    "    trainer.load(\"/scratch_net/biwidl216/rl_course_14/project/our_approach/DiffuseDriveClean/trained_models/step_model_ema_unconditioned.pt\")"
   ]
  },
  {
   "cell_type": "code",
   "execution_count": 15,
   "metadata": {},
   "outputs": [
    {
     "name": "stderr",
     "output_type": "stream",
     "text": [
      "/scratch_net/biwidl216/rl_course_14/conda_envs/diffuser_planning/lib/python3.8/site-packages/torch/utils/data/_utils/collate.py:171: UserWarning: The given NumPy array is not writable, and PyTorch does not support non-writable tensors. This means writing to this tensor will result in undefined behavior. You may want to copy the array to protect its data or make it writable before converting it to a tensor. This type of warning will be suppressed for the rest of this program. (Triggered internally at ../torch/csrc/utils/tensor_numpy.cpp:206.)\n",
      "  return collate([torch.as_tensor(b) for b in batch], collate_fn_map=collate_fn_map)\n"
     ]
    },
    {
     "name": "stdout",
     "output_type": "stream",
     "text": [
      "\n"
     ]
    },
    {
     "ename": "KeyboardInterrupt",
     "evalue": "",
     "output_type": "error",
     "traceback": [
      "\u001b[0;31m---------------------------------------------------------------------------\u001b[0m",
      "\u001b[0;31mKeyboardInterrupt\u001b[0m                         Traceback (most recent call last)",
      "Cell \u001b[0;32mIn[15], line 1\u001b[0m\n\u001b[0;32m----> 1\u001b[0m \u001b[43mtrainer\u001b[49m\u001b[38;5;241;43m.\u001b[39;49m\u001b[43mvisualize_bev\u001b[49m\u001b[43m(\u001b[49m\u001b[43mbatch_size\u001b[49m\u001b[38;5;241;43m=\u001b[39;49m\u001b[38;5;241;43m40\u001b[39;49m\u001b[43m,\u001b[49m\u001b[43m \u001b[49m\u001b[43mn_samples\u001b[49m\u001b[38;5;241;43m=\u001b[39;49m\u001b[38;5;241;43m10\u001b[39;49m\u001b[43m)\u001b[49m\n",
      "File \u001b[0;32m/scratch_net/biwidl216/rl_course_14/project/our_approach/DiffuseDriveClean/diffuser/utils/training.py:412\u001b[0m, in \u001b[0;36mTrainer.visualize_bev\u001b[0;34m(self, batch_size, n_samples)\u001b[0m\n\u001b[1;32m    410\u001b[0m         samples \u001b[38;5;241m=\u001b[39m \u001b[38;5;28mself\u001b[39m\u001b[38;5;241m.\u001b[39mema_model\u001b[38;5;241m.\u001b[39mconditional_sample(conditions, images\u001b[38;5;241m=\u001b[39m\u001b[38;5;28;01mNone\u001b[39;00m, cmd \u001b[38;5;241m=\u001b[39m commands)\n\u001b[1;32m    411\u001b[0m     \u001b[38;5;28;01melse\u001b[39;00m:\n\u001b[0;32m--> 412\u001b[0m         samples \u001b[38;5;241m=\u001b[39m \u001b[38;5;28;43mself\u001b[39;49m\u001b[38;5;241;43m.\u001b[39;49m\u001b[43mema_model\u001b[49m\u001b[38;5;241;43m.\u001b[39;49m\u001b[43mconditional_sample\u001b[49m\u001b[43m(\u001b[49m\u001b[43mconditions\u001b[49m\u001b[43m,\u001b[49m\u001b[43m \u001b[49m\u001b[43mimages\u001b[49m\u001b[38;5;241;43m=\u001b[39;49m\u001b[38;5;28;43;01mNone\u001b[39;49;00m\u001b[43m,\u001b[49m\u001b[43m \u001b[49m\u001b[43mcmd\u001b[49m\u001b[43m \u001b[49m\u001b[38;5;241;43m=\u001b[39;49m\u001b[43m \u001b[49m\u001b[38;5;28;43;01mNone\u001b[39;49;00m\u001b[43m)\u001b[49m\n\u001b[1;32m    414\u001b[0m samples \u001b[38;5;241m=\u001b[39m to_np(samples)\n\u001b[1;32m    416\u001b[0m \u001b[38;5;66;03m## [ n_samples x horizon x observation_dim ]\u001b[39;00m\n",
      "File \u001b[0;32m/scratch_net/biwidl216/rl_course_14/conda_envs/diffuser_planning/lib/python3.8/site-packages/torch/utils/_contextlib.py:115\u001b[0m, in \u001b[0;36mcontext_decorator.<locals>.decorate_context\u001b[0;34m(*args, **kwargs)\u001b[0m\n\u001b[1;32m    112\u001b[0m \u001b[38;5;129m@functools\u001b[39m\u001b[38;5;241m.\u001b[39mwraps(func)\n\u001b[1;32m    113\u001b[0m \u001b[38;5;28;01mdef\u001b[39;00m \u001b[38;5;21mdecorate_context\u001b[39m(\u001b[38;5;241m*\u001b[39margs, \u001b[38;5;241m*\u001b[39m\u001b[38;5;241m*\u001b[39mkwargs):\n\u001b[1;32m    114\u001b[0m     \u001b[38;5;28;01mwith\u001b[39;00m ctx_factory():\n\u001b[0;32m--> 115\u001b[0m         \u001b[38;5;28;01mreturn\u001b[39;00m \u001b[43mfunc\u001b[49m\u001b[43m(\u001b[49m\u001b[38;5;241;43m*\u001b[39;49m\u001b[43margs\u001b[49m\u001b[43m,\u001b[49m\u001b[43m \u001b[49m\u001b[38;5;241;43m*\u001b[39;49m\u001b[38;5;241;43m*\u001b[39;49m\u001b[43mkwargs\u001b[49m\u001b[43m)\u001b[49m\n",
      "File \u001b[0;32m/scratch_net/biwidl216/rl_course_14/project/our_approach/DiffuseDriveClean/diffuser/models/diffusion.py:1033\u001b[0m, in \u001b[0;36mGaussianInvDynDiffusionCarla.conditional_sample\u001b[0;34m(self, cond, images, cmd, horizon, *args, **kwargs)\u001b[0m\n\u001b[1;32m   1030\u001b[0m horizon \u001b[38;5;241m=\u001b[39m horizon \u001b[38;5;129;01mor\u001b[39;00m \u001b[38;5;28mself\u001b[39m\u001b[38;5;241m.\u001b[39mhorizon\n\u001b[1;32m   1031\u001b[0m shape \u001b[38;5;241m=\u001b[39m (batch_size, horizon, \u001b[38;5;28mself\u001b[39m\u001b[38;5;241m.\u001b[39mobservation_dim)\n\u001b[0;32m-> 1033\u001b[0m \u001b[38;5;28;01mreturn\u001b[39;00m \u001b[38;5;28;43mself\u001b[39;49m\u001b[38;5;241;43m.\u001b[39;49m\u001b[43mp_sample_loop\u001b[49m\u001b[43m(\u001b[49m\u001b[43mshape\u001b[49m\u001b[43m,\u001b[49m\u001b[43m \u001b[49m\u001b[43mcond\u001b[49m\u001b[43m,\u001b[49m\u001b[43m \u001b[49m\u001b[43mimages\u001b[49m\u001b[43m,\u001b[49m\u001b[43m \u001b[49m\u001b[43mcmd\u001b[49m\u001b[43m,\u001b[49m\u001b[43m \u001b[49m\u001b[38;5;241;43m*\u001b[39;49m\u001b[43margs\u001b[49m\u001b[43m,\u001b[49m\u001b[43m \u001b[49m\u001b[38;5;241;43m*\u001b[39;49m\u001b[38;5;241;43m*\u001b[39;49m\u001b[43mkwargs\u001b[49m\u001b[43m)\u001b[49m\n",
      "File \u001b[0;32m/scratch_net/biwidl216/rl_course_14/conda_envs/diffuser_planning/lib/python3.8/site-packages/torch/utils/_contextlib.py:115\u001b[0m, in \u001b[0;36mcontext_decorator.<locals>.decorate_context\u001b[0;34m(*args, **kwargs)\u001b[0m\n\u001b[1;32m    112\u001b[0m \u001b[38;5;129m@functools\u001b[39m\u001b[38;5;241m.\u001b[39mwraps(func)\n\u001b[1;32m    113\u001b[0m \u001b[38;5;28;01mdef\u001b[39;00m \u001b[38;5;21mdecorate_context\u001b[39m(\u001b[38;5;241m*\u001b[39margs, \u001b[38;5;241m*\u001b[39m\u001b[38;5;241m*\u001b[39mkwargs):\n\u001b[1;32m    114\u001b[0m     \u001b[38;5;28;01mwith\u001b[39;00m ctx_factory():\n\u001b[0;32m--> 115\u001b[0m         \u001b[38;5;28;01mreturn\u001b[39;00m \u001b[43mfunc\u001b[49m\u001b[43m(\u001b[49m\u001b[38;5;241;43m*\u001b[39;49m\u001b[43margs\u001b[49m\u001b[43m,\u001b[49m\u001b[43m \u001b[49m\u001b[38;5;241;43m*\u001b[39;49m\u001b[38;5;241;43m*\u001b[39;49m\u001b[43mkwargs\u001b[49m\u001b[43m)\u001b[49m\n",
      "File \u001b[0;32m/scratch_net/biwidl216/rl_course_14/project/our_approach/DiffuseDriveClean/diffuser/models/diffusion.py:1009\u001b[0m, in \u001b[0;36mGaussianInvDynDiffusionCarla.p_sample_loop\u001b[0;34m(self, shape, cond, returns, cmd, verbose, return_diffusion)\u001b[0m\n\u001b[1;32m   1007\u001b[0m \u001b[38;5;28;01mfor\u001b[39;00m i \u001b[38;5;129;01min\u001b[39;00m \u001b[38;5;28mreversed\u001b[39m(\u001b[38;5;28mrange\u001b[39m(\u001b[38;5;241m0\u001b[39m, \u001b[38;5;28mself\u001b[39m\u001b[38;5;241m.\u001b[39mn_timesteps)):\n\u001b[1;32m   1008\u001b[0m     timesteps \u001b[38;5;241m=\u001b[39m torch\u001b[38;5;241m.\u001b[39mfull((batch_size,), i, device\u001b[38;5;241m=\u001b[39mdevice, dtype\u001b[38;5;241m=\u001b[39mtorch\u001b[38;5;241m.\u001b[39mlong)\n\u001b[0;32m-> 1009\u001b[0m     x \u001b[38;5;241m=\u001b[39m \u001b[38;5;28;43mself\u001b[39;49m\u001b[38;5;241;43m.\u001b[39;49m\u001b[43mp_sample\u001b[49m\u001b[43m(\u001b[49m\u001b[43mx\u001b[49m\u001b[43m,\u001b[49m\u001b[43m \u001b[49m\u001b[43mcond\u001b[49m\u001b[43m,\u001b[49m\u001b[43m \u001b[49m\u001b[43mtimesteps\u001b[49m\u001b[43m,\u001b[49m\u001b[43m \u001b[49m\u001b[43mreturns\u001b[49m\u001b[43m,\u001b[49m\u001b[43m \u001b[49m\u001b[43mcmd\u001b[49m\u001b[43m)\u001b[49m\n\u001b[1;32m   1010\u001b[0m     x[:, \u001b[38;5;241m0\u001b[39m:\u001b[38;5;241m4\u001b[39m, :] \u001b[38;5;241m=\u001b[39m cond\n\u001b[1;32m   1012\u001b[0m     progress\u001b[38;5;241m.\u001b[39mupdate({\u001b[38;5;124m'\u001b[39m\u001b[38;5;124mt\u001b[39m\u001b[38;5;124m'\u001b[39m: i})\n",
      "File \u001b[0;32m/scratch_net/biwidl216/rl_course_14/conda_envs/diffuser_planning/lib/python3.8/site-packages/torch/utils/_contextlib.py:115\u001b[0m, in \u001b[0;36mcontext_decorator.<locals>.decorate_context\u001b[0;34m(*args, **kwargs)\u001b[0m\n\u001b[1;32m    112\u001b[0m \u001b[38;5;129m@functools\u001b[39m\u001b[38;5;241m.\u001b[39mwraps(func)\n\u001b[1;32m    113\u001b[0m \u001b[38;5;28;01mdef\u001b[39;00m \u001b[38;5;21mdecorate_context\u001b[39m(\u001b[38;5;241m*\u001b[39margs, \u001b[38;5;241m*\u001b[39m\u001b[38;5;241m*\u001b[39mkwargs):\n\u001b[1;32m    114\u001b[0m     \u001b[38;5;28;01mwith\u001b[39;00m ctx_factory():\n\u001b[0;32m--> 115\u001b[0m         \u001b[38;5;28;01mreturn\u001b[39;00m \u001b[43mfunc\u001b[49m\u001b[43m(\u001b[49m\u001b[38;5;241;43m*\u001b[39;49m\u001b[43margs\u001b[49m\u001b[43m,\u001b[49m\u001b[43m \u001b[49m\u001b[38;5;241;43m*\u001b[39;49m\u001b[38;5;241;43m*\u001b[39;49m\u001b[43mkwargs\u001b[49m\u001b[43m)\u001b[49m\n",
      "File \u001b[0;32m/scratch_net/biwidl216/rl_course_14/project/our_approach/DiffuseDriveClean/diffuser/models/diffusion.py:990\u001b[0m, in \u001b[0;36mGaussianInvDynDiffusionCarla.p_sample\u001b[0;34m(self, x, cond, t, returns, cmd)\u001b[0m\n\u001b[1;32m    987\u001b[0m \u001b[38;5;129m@torch\u001b[39m\u001b[38;5;241m.\u001b[39mno_grad()\n\u001b[1;32m    988\u001b[0m \u001b[38;5;28;01mdef\u001b[39;00m \u001b[38;5;21mp_sample\u001b[39m(\u001b[38;5;28mself\u001b[39m, x, cond, t, returns\u001b[38;5;241m=\u001b[39m\u001b[38;5;28;01mNone\u001b[39;00m, cmd \u001b[38;5;241m=\u001b[39m \u001b[38;5;28;01mNone\u001b[39;00m):\n\u001b[1;32m    989\u001b[0m     b, \u001b[38;5;241m*\u001b[39m_, device \u001b[38;5;241m=\u001b[39m \u001b[38;5;241m*\u001b[39mx\u001b[38;5;241m.\u001b[39mshape, x\u001b[38;5;241m.\u001b[39mdevice\n\u001b[0;32m--> 990\u001b[0m     model_mean, _, model_log_variance \u001b[38;5;241m=\u001b[39m \u001b[38;5;28;43mself\u001b[39;49m\u001b[38;5;241;43m.\u001b[39;49m\u001b[43mp_mean_variance\u001b[49m\u001b[43m(\u001b[49m\u001b[43mx\u001b[49m\u001b[38;5;241;43m=\u001b[39;49m\u001b[43mx\u001b[49m\u001b[43m,\u001b[49m\u001b[43m \u001b[49m\u001b[43mcond\u001b[49m\u001b[38;5;241;43m=\u001b[39;49m\u001b[43mcond\u001b[49m\u001b[43m,\u001b[49m\u001b[43m \u001b[49m\u001b[43mt\u001b[49m\u001b[38;5;241;43m=\u001b[39;49m\u001b[43mt\u001b[49m\u001b[43m,\u001b[49m\u001b[43m \u001b[49m\u001b[43mreturns\u001b[49m\u001b[38;5;241;43m=\u001b[39;49m\u001b[43mreturns\u001b[49m\u001b[43m,\u001b[49m\u001b[43m \u001b[49m\u001b[43mcmd\u001b[49m\u001b[43m \u001b[49m\u001b[38;5;241;43m=\u001b[39;49m\u001b[43m \u001b[49m\u001b[43mcmd\u001b[49m\u001b[43m)\u001b[49m\n\u001b[1;32m    991\u001b[0m     noise \u001b[38;5;241m=\u001b[39m \u001b[38;5;241m0.5\u001b[39m\u001b[38;5;241m*\u001b[39mtorch\u001b[38;5;241m.\u001b[39mrandn_like(x)\n\u001b[1;32m    992\u001b[0m     \u001b[38;5;66;03m# no noise when t == 0\u001b[39;00m\n",
      "File \u001b[0;32m/scratch_net/biwidl216/rl_course_14/project/our_approach/DiffuseDriveClean/diffuser/models/diffusion.py:969\u001b[0m, in \u001b[0;36mGaussianInvDynDiffusionCarla.p_mean_variance\u001b[0;34m(self, x, cond, t, returns, cmd)\u001b[0m\n\u001b[1;32m    966\u001b[0m \u001b[38;5;28;01mdef\u001b[39;00m \u001b[38;5;21mp_mean_variance\u001b[39m(\u001b[38;5;28mself\u001b[39m, x, cond, t, returns\u001b[38;5;241m=\u001b[39m\u001b[38;5;28;01mNone\u001b[39;00m, cmd \u001b[38;5;241m=\u001b[39m \u001b[38;5;28;01mNone\u001b[39;00m):\n\u001b[1;32m    967\u001b[0m     \u001b[38;5;28;01mif\u001b[39;00m \u001b[38;5;28mself\u001b[39m\u001b[38;5;241m.\u001b[39mreturns_condition:\n\u001b[1;32m    968\u001b[0m         \u001b[38;5;66;03m# epsilon could be epsilon or x0 itself\u001b[39;00m\n\u001b[0;32m--> 969\u001b[0m         epsilon_cond \u001b[38;5;241m=\u001b[39m \u001b[38;5;28;43mself\u001b[39;49m\u001b[38;5;241;43m.\u001b[39;49m\u001b[43mmodel\u001b[49m\u001b[43m(\u001b[49m\u001b[43mx\u001b[49m\u001b[43m,\u001b[49m\u001b[43m \u001b[49m\u001b[43mcond\u001b[49m\u001b[43m,\u001b[49m\u001b[43m \u001b[49m\u001b[43mt\u001b[49m\u001b[43m,\u001b[49m\u001b[43m \u001b[49m\u001b[43mreturns\u001b[49m\u001b[43m,\u001b[49m\u001b[43m \u001b[49m\u001b[43mcmd\u001b[49m\u001b[43m \u001b[49m\u001b[38;5;241;43m=\u001b[39;49m\u001b[43m \u001b[49m\u001b[43mcmd\u001b[49m\u001b[43m,\u001b[49m\u001b[43m \u001b[49m\u001b[43muse_dropout\u001b[49m\u001b[38;5;241;43m=\u001b[39;49m\u001b[38;5;28;43;01mFalse\u001b[39;49;00m\u001b[43m)\u001b[49m\n\u001b[1;32m    970\u001b[0m         epsilon_uncond \u001b[38;5;241m=\u001b[39m \u001b[38;5;28mself\u001b[39m\u001b[38;5;241m.\u001b[39mmodel(x, cond, t, returns, cmd\u001b[38;5;241m=\u001b[39mcmd, force_dropout\u001b[38;5;241m=\u001b[39m\u001b[38;5;28;01mTrue\u001b[39;00m)\n\u001b[1;32m    971\u001b[0m         epsilon \u001b[38;5;241m=\u001b[39m epsilon_uncond \u001b[38;5;241m+\u001b[39m \u001b[38;5;28mself\u001b[39m\u001b[38;5;241m.\u001b[39mcondition_guidance_w\u001b[38;5;241m*\u001b[39m(epsilon_cond \u001b[38;5;241m-\u001b[39m epsilon_uncond)\n",
      "File \u001b[0;32m/scratch_net/biwidl216/rl_course_14/conda_envs/diffuser_planning/lib/python3.8/site-packages/torch/nn/modules/module.py:1501\u001b[0m, in \u001b[0;36mModule._call_impl\u001b[0;34m(self, *args, **kwargs)\u001b[0m\n\u001b[1;32m   1496\u001b[0m \u001b[38;5;66;03m# If we don't have any hooks, we want to skip the rest of the logic in\u001b[39;00m\n\u001b[1;32m   1497\u001b[0m \u001b[38;5;66;03m# this function, and just call forward.\u001b[39;00m\n\u001b[1;32m   1498\u001b[0m \u001b[38;5;28;01mif\u001b[39;00m \u001b[38;5;129;01mnot\u001b[39;00m (\u001b[38;5;28mself\u001b[39m\u001b[38;5;241m.\u001b[39m_backward_hooks \u001b[38;5;129;01mor\u001b[39;00m \u001b[38;5;28mself\u001b[39m\u001b[38;5;241m.\u001b[39m_backward_pre_hooks \u001b[38;5;129;01mor\u001b[39;00m \u001b[38;5;28mself\u001b[39m\u001b[38;5;241m.\u001b[39m_forward_hooks \u001b[38;5;129;01mor\u001b[39;00m \u001b[38;5;28mself\u001b[39m\u001b[38;5;241m.\u001b[39m_forward_pre_hooks\n\u001b[1;32m   1499\u001b[0m         \u001b[38;5;129;01mor\u001b[39;00m _global_backward_pre_hooks \u001b[38;5;129;01mor\u001b[39;00m _global_backward_hooks\n\u001b[1;32m   1500\u001b[0m         \u001b[38;5;129;01mor\u001b[39;00m _global_forward_hooks \u001b[38;5;129;01mor\u001b[39;00m _global_forward_pre_hooks):\n\u001b[0;32m-> 1501\u001b[0m     \u001b[38;5;28;01mreturn\u001b[39;00m \u001b[43mforward_call\u001b[49m\u001b[43m(\u001b[49m\u001b[38;5;241;43m*\u001b[39;49m\u001b[43margs\u001b[49m\u001b[43m,\u001b[49m\u001b[43m \u001b[49m\u001b[38;5;241;43m*\u001b[39;49m\u001b[38;5;241;43m*\u001b[39;49m\u001b[43mkwargs\u001b[49m\u001b[43m)\u001b[49m\n\u001b[1;32m   1502\u001b[0m \u001b[38;5;66;03m# Do not call functions when jit is used\u001b[39;00m\n\u001b[1;32m   1503\u001b[0m full_backward_hooks, non_full_backward_hooks \u001b[38;5;241m=\u001b[39m [], []\n",
      "File \u001b[0;32m/scratch_net/biwidl216/rl_course_14/project/our_approach/DiffuseDriveClean/diffuser/models/temporal.py:601\u001b[0m, in \u001b[0;36mTemporalUnetCarla.forward\u001b[0;34m(self, x, cond, time, images, cmd, use_dropout, force_dropout)\u001b[0m\n\u001b[1;32m    598\u001b[0m \u001b[38;5;66;03m# x = x.type(torch.FloatTensor)\u001b[39;00m\n\u001b[1;32m    599\u001b[0m x \u001b[38;5;241m=\u001b[39m einops\u001b[38;5;241m.\u001b[39mrearrange(x, \u001b[38;5;124m'\u001b[39m\u001b[38;5;124mb h t -> b t h\u001b[39m\u001b[38;5;124m'\u001b[39m)\n\u001b[0;32m--> 601\u001b[0m t \u001b[38;5;241m=\u001b[39m \u001b[38;5;28;43mself\u001b[39;49m\u001b[38;5;241;43m.\u001b[39;49m\u001b[43mtime_mlp\u001b[49m\u001b[43m(\u001b[49m\u001b[43mtime\u001b[49m\u001b[43m)\u001b[49m\n\u001b[1;32m    603\u001b[0m \u001b[38;5;28;01mif\u001b[39;00m \u001b[38;5;28mself\u001b[39m\u001b[38;5;241m.\u001b[39mreturns_condition \u001b[38;5;129;01mand\u001b[39;00m \u001b[38;5;28mself\u001b[39m\u001b[38;5;241m.\u001b[39mpast_image_cond:\n\u001b[1;32m    604\u001b[0m     \u001b[38;5;28;01massert\u001b[39;00m images \u001b[38;5;129;01mis\u001b[39;00m \u001b[38;5;129;01mnot\u001b[39;00m \u001b[38;5;28;01mNone\u001b[39;00m\n",
      "File \u001b[0;32m/scratch_net/biwidl216/rl_course_14/conda_envs/diffuser_planning/lib/python3.8/site-packages/torch/nn/modules/module.py:1501\u001b[0m, in \u001b[0;36mModule._call_impl\u001b[0;34m(self, *args, **kwargs)\u001b[0m\n\u001b[1;32m   1496\u001b[0m \u001b[38;5;66;03m# If we don't have any hooks, we want to skip the rest of the logic in\u001b[39;00m\n\u001b[1;32m   1497\u001b[0m \u001b[38;5;66;03m# this function, and just call forward.\u001b[39;00m\n\u001b[1;32m   1498\u001b[0m \u001b[38;5;28;01mif\u001b[39;00m \u001b[38;5;129;01mnot\u001b[39;00m (\u001b[38;5;28mself\u001b[39m\u001b[38;5;241m.\u001b[39m_backward_hooks \u001b[38;5;129;01mor\u001b[39;00m \u001b[38;5;28mself\u001b[39m\u001b[38;5;241m.\u001b[39m_backward_pre_hooks \u001b[38;5;129;01mor\u001b[39;00m \u001b[38;5;28mself\u001b[39m\u001b[38;5;241m.\u001b[39m_forward_hooks \u001b[38;5;129;01mor\u001b[39;00m \u001b[38;5;28mself\u001b[39m\u001b[38;5;241m.\u001b[39m_forward_pre_hooks\n\u001b[1;32m   1499\u001b[0m         \u001b[38;5;129;01mor\u001b[39;00m _global_backward_pre_hooks \u001b[38;5;129;01mor\u001b[39;00m _global_backward_hooks\n\u001b[1;32m   1500\u001b[0m         \u001b[38;5;129;01mor\u001b[39;00m _global_forward_hooks \u001b[38;5;129;01mor\u001b[39;00m _global_forward_pre_hooks):\n\u001b[0;32m-> 1501\u001b[0m     \u001b[38;5;28;01mreturn\u001b[39;00m \u001b[43mforward_call\u001b[49m\u001b[43m(\u001b[49m\u001b[38;5;241;43m*\u001b[39;49m\u001b[43margs\u001b[49m\u001b[43m,\u001b[49m\u001b[43m \u001b[49m\u001b[38;5;241;43m*\u001b[39;49m\u001b[38;5;241;43m*\u001b[39;49m\u001b[43mkwargs\u001b[49m\u001b[43m)\u001b[49m\n\u001b[1;32m   1502\u001b[0m \u001b[38;5;66;03m# Do not call functions when jit is used\u001b[39;00m\n\u001b[1;32m   1503\u001b[0m full_backward_hooks, non_full_backward_hooks \u001b[38;5;241m=\u001b[39m [], []\n",
      "File \u001b[0;32m/scratch_net/biwidl216/rl_course_14/conda_envs/diffuser_planning/lib/python3.8/site-packages/torch/nn/modules/container.py:217\u001b[0m, in \u001b[0;36mSequential.forward\u001b[0;34m(self, input)\u001b[0m\n\u001b[1;32m    215\u001b[0m \u001b[38;5;28;01mdef\u001b[39;00m \u001b[38;5;21mforward\u001b[39m(\u001b[38;5;28mself\u001b[39m, \u001b[38;5;28minput\u001b[39m):\n\u001b[1;32m    216\u001b[0m     \u001b[38;5;28;01mfor\u001b[39;00m module \u001b[38;5;129;01min\u001b[39;00m \u001b[38;5;28mself\u001b[39m:\n\u001b[0;32m--> 217\u001b[0m         \u001b[38;5;28minput\u001b[39m \u001b[38;5;241m=\u001b[39m \u001b[43mmodule\u001b[49m\u001b[43m(\u001b[49m\u001b[38;5;28;43minput\u001b[39;49m\u001b[43m)\u001b[49m\n\u001b[1;32m    218\u001b[0m     \u001b[38;5;28;01mreturn\u001b[39;00m \u001b[38;5;28minput\u001b[39m\n",
      "File \u001b[0;32m/scratch_net/biwidl216/rl_course_14/conda_envs/diffuser_planning/lib/python3.8/site-packages/torch/nn/modules/module.py:1501\u001b[0m, in \u001b[0;36mModule._call_impl\u001b[0;34m(self, *args, **kwargs)\u001b[0m\n\u001b[1;32m   1496\u001b[0m \u001b[38;5;66;03m# If we don't have any hooks, we want to skip the rest of the logic in\u001b[39;00m\n\u001b[1;32m   1497\u001b[0m \u001b[38;5;66;03m# this function, and just call forward.\u001b[39;00m\n\u001b[1;32m   1498\u001b[0m \u001b[38;5;28;01mif\u001b[39;00m \u001b[38;5;129;01mnot\u001b[39;00m (\u001b[38;5;28mself\u001b[39m\u001b[38;5;241m.\u001b[39m_backward_hooks \u001b[38;5;129;01mor\u001b[39;00m \u001b[38;5;28mself\u001b[39m\u001b[38;5;241m.\u001b[39m_backward_pre_hooks \u001b[38;5;129;01mor\u001b[39;00m \u001b[38;5;28mself\u001b[39m\u001b[38;5;241m.\u001b[39m_forward_hooks \u001b[38;5;129;01mor\u001b[39;00m \u001b[38;5;28mself\u001b[39m\u001b[38;5;241m.\u001b[39m_forward_pre_hooks\n\u001b[1;32m   1499\u001b[0m         \u001b[38;5;129;01mor\u001b[39;00m _global_backward_pre_hooks \u001b[38;5;129;01mor\u001b[39;00m _global_backward_hooks\n\u001b[1;32m   1500\u001b[0m         \u001b[38;5;129;01mor\u001b[39;00m _global_forward_hooks \u001b[38;5;129;01mor\u001b[39;00m _global_forward_pre_hooks):\n\u001b[0;32m-> 1501\u001b[0m     \u001b[38;5;28;01mreturn\u001b[39;00m \u001b[43mforward_call\u001b[49m\u001b[43m(\u001b[49m\u001b[38;5;241;43m*\u001b[39;49m\u001b[43margs\u001b[49m\u001b[43m,\u001b[49m\u001b[43m \u001b[49m\u001b[38;5;241;43m*\u001b[39;49m\u001b[38;5;241;43m*\u001b[39;49m\u001b[43mkwargs\u001b[49m\u001b[43m)\u001b[49m\n\u001b[1;32m   1502\u001b[0m \u001b[38;5;66;03m# Do not call functions when jit is used\u001b[39;00m\n\u001b[1;32m   1503\u001b[0m full_backward_hooks, non_full_backward_hooks \u001b[38;5;241m=\u001b[39m [], []\n",
      "File \u001b[0;32m/scratch_net/biwidl216/rl_course_14/conda_envs/diffuser_planning/lib/python3.8/site-packages/torch/nn/modules/linear.py:114\u001b[0m, in \u001b[0;36mLinear.forward\u001b[0;34m(self, input)\u001b[0m\n\u001b[1;32m    113\u001b[0m \u001b[38;5;28;01mdef\u001b[39;00m \u001b[38;5;21mforward\u001b[39m(\u001b[38;5;28mself\u001b[39m, \u001b[38;5;28minput\u001b[39m: Tensor) \u001b[38;5;241m-\u001b[39m\u001b[38;5;241m>\u001b[39m Tensor:\n\u001b[0;32m--> 114\u001b[0m     \u001b[38;5;28;01mreturn\u001b[39;00m \u001b[43mF\u001b[49m\u001b[38;5;241;43m.\u001b[39;49m\u001b[43mlinear\u001b[49m\u001b[43m(\u001b[49m\u001b[38;5;28;43minput\u001b[39;49m\u001b[43m,\u001b[49m\u001b[43m \u001b[49m\u001b[38;5;28;43mself\u001b[39;49m\u001b[38;5;241;43m.\u001b[39;49m\u001b[43mweight\u001b[49m\u001b[43m,\u001b[49m\u001b[43m \u001b[49m\u001b[38;5;28;43mself\u001b[39;49m\u001b[38;5;241;43m.\u001b[39;49m\u001b[43mbias\u001b[49m\u001b[43m)\u001b[49m\n",
      "\u001b[0;31mKeyboardInterrupt\u001b[0m: "
     ]
    }
   ],
   "source": [
    "trainer.visualize_bev(batch_size=40, n_samples=10)"
   ]
  },
  {
   "cell_type": "code",
   "execution_count": 235,
   "metadata": {},
   "outputs": [],
   "source": [
    "for i in range(10):\n",
    "    batch = trainer.dataloader_vis.__next__()"
   ]
  },
  {
   "cell_type": "code",
   "execution_count": null,
   "metadata": {},
   "outputs": [],
   "source": []
  },
  {
   "cell_type": "code",
   "execution_count": 236,
   "metadata": {},
   "outputs": [],
   "source": [
    "from torchvision.models.segmentation import lraspp_mobilenet_v3_large"
   ]
  },
  {
   "cell_type": "code",
   "execution_count": 237,
   "metadata": {},
   "outputs": [],
   "source": [
    "image_seg = lraspp_mobilenet_v3_large(weights='LRASPP_MobileNet_V3_Large_Weights.DEFAULT')"
   ]
  },
  {
   "cell_type": "code",
   "execution_count": 253,
   "metadata": {},
   "outputs": [],
   "source": [
    "import PIL\n",
    "# print(batch.keys())\n",
    "from torchvision.models.segmentation.lraspp import LRASPP_MobileNet_V3_Large_Weights\n",
    "image_list = [batch.images[0][0], batch.images[0][1], batch.images[0][2], batch.images[0][3]]\n",
    "preprocess = LRASPP_MobileNet_V3_Large_Weights.COCO_WITH_VOC_LABELS_V1.transforms()\n",
    "# input_image = preprocess(batch.images[0])\n",
    "input_image = batch.images[0]\n",
    "seg_output = image_seg(input_image)\n"
   ]
  },
  {
   "cell_type": "code",
   "execution_count": 254,
   "metadata": {},
   "outputs": [
    {
     "name": "stdout",
     "output_type": "stream",
     "text": [
      "torch.Size([4, 21, 128, 128])\n",
      "tensor([[0, 0, 0,  ..., 0, 0, 0],\n",
      "        [0, 0, 0,  ..., 0, 0, 0],\n",
      "        [0, 0, 0,  ..., 0, 0, 0],\n",
      "        ...,\n",
      "        [0, 0, 0,  ..., 0, 0, 0],\n",
      "        [0, 0, 0,  ..., 0, 0, 0],\n",
      "        [0, 0, 0,  ..., 0, 0, 0]])\n"
     ]
    }
   ],
   "source": [
    "print(seg_output['out'].shape)\n",
    "print(seg_output['out'].argmax(axis=1)[0])\n",
    "\n",
    "import torchvision.transforms.functional as F\n",
    "def show(imgs):\n",
    "    if not isinstance(imgs, list):\n",
    "        imgs = [imgs]\n",
    "    fig, axs = plt.subplots(ncols=len(imgs), squeeze=False)\n",
    "    for i, img in enumerate(imgs):\n",
    "        img = img.detach()\n",
    "        img = F.to_pil_image(img)\n",
    "        axs[0, i].imshow(np.asarray(img))\n",
    "        axs[0, i].set(xticklabels=[], yticklabels=[], xticks=[], yticks=[])"
   ]
  },
  {
   "cell_type": "code",
   "execution_count": 255,
   "metadata": {
    "scrolled": true
   },
   "outputs": [
    {
     "data": {
      "image/png": "[encoded data removed]",
      "text/plain": [
       "<Figure size 640x480 with 5 Axes>"
      ]
     },
     "metadata": {},
     "output_type": "display_data"
    },
    {
     "data": {
      "image/png": "[encoded data removed]",
      "text/plain": [
       "<Figure size 640x480 with 5 Axes>"
      ]
     },
     "metadata": {},
     "output_type": "display_data"
    },
    {
     "data": {
      "image/png": "[encoded data removed]",
      "text/plain": [
       "<Figure size 640x480 with 5 Axes>"
      ]
     },
     "metadata": {},
     "output_type": "display_data"
    },
    {
     "data": {
      "image/png": "[encoded data removed]",
      "text/plain": [
       "<Figure size 640x480 with 6 Axes>"
      ]
     },
     "metadata": {},
     "output_type": "display_data"
    }
   ],
   "source": [
    "from torchvision.utils import draw_segmentation_masks\n",
    "\n",
    "normalized_masks = torch.nn.functional.softmax(seg_output['out'], dim=1)\n",
    "\n",
    "masks = [None] * seg_output['out'].shape[1]\n",
    "for i in range(seg_output['out'].shape[1]):\n",
    "    masks[i] = (seg_output['out'].argmax(axis=1)[0] == i)\n",
    "\n",
    "image_with_masks = [\n",
    "    draw_segmentation_masks(input_image.to(torch.uint8)[0], masks=masks[i], alpha=0.7, colors=(255,0,0))\n",
    "    for i in range(seg_output['out'].shape[1])\n",
    "]\n",
    "show(image_with_masks[0:5])\n",
    "show(image_with_masks[5:10])\n",
    "show(image_with_masks[10:15])\n",
    "show(image_with_masks[15:])"
   ]
  },
  {
   "cell_type": "code",
   "execution_count": null,
   "metadata": {},
   "outputs": [],
   "source": []
  },
  {
   "cell_type": "code",
   "execution_count": null,
   "metadata": {},
   "outputs": [],
   "source": []
  }
 ],
 "metadata": {
  "kernelspec": {
   "display_name": "Python 3 (ipykernel)",
   "language": "python",
   "name": "python3"
  },
  "language_info": {
   "codemirror_mode": {
    "name": "ipython",
    "version": 3
   },
   "file_extension": ".py",
   "mimetype": "text/x-python",
   "name": "python",
   "nbconvert_exporter": "python",
   "pygments_lexer": "ipython3",
   "version": "3.8.16"
  },
  "vscode": {
   "interpreter": {
    "hash": "8d61cc58e210cc5ccd3f9fb4b8fb21e7e3414dfbed8a78c294987a8da80c478a"
   }
  }
 },
 "nbformat": 4,
 "nbformat_minor": 2
}
